{
 "cells": [
  {
   "cell_type": "code",
   "execution_count": 81,
   "id": "dfefcee3",
   "metadata": {},
   "outputs": [],
   "source": [
    "import tensorflow as tf"
   ]
  },
  {
   "cell_type": "code",
   "execution_count": 82,
   "id": "663dd74d",
   "metadata": {},
   "outputs": [],
   "source": [
    "import keras  as ks"
   ]
  },
  {
   "cell_type": "code",
   "execution_count": 83,
   "id": "54f67921",
   "metadata": {},
   "outputs": [
    {
     "data": {
      "text/plain": [
       "'2.9.1'"
      ]
     },
     "execution_count": 83,
     "metadata": {},
     "output_type": "execute_result"
    }
   ],
   "source": [
    "tf.__version__"
   ]
  },
  {
   "cell_type": "code",
   "execution_count": 84,
   "id": "52f762ff",
   "metadata": {},
   "outputs": [
    {
     "data": {
      "text/plain": [
       "'2.9.0'"
      ]
     },
     "execution_count": 84,
     "metadata": {},
     "output_type": "execute_result"
    }
   ],
   "source": [
    "ks.__version__"
   ]
  },
  {
   "cell_type": "code",
   "execution_count": 85,
   "id": "09b65c66",
   "metadata": {},
   "outputs": [],
   "source": [
    "fasion_minst= ks.datasets.fashion_mnist"
   ]
  },
  {
   "cell_type": "code",
   "execution_count": 86,
   "id": "ea49ae40",
   "metadata": {},
   "outputs": [],
   "source": [
    "(x_train_full,y_train_full) ,(x_test,y_test)=fasion_minst.load_data()"
   ]
  },
  {
   "cell_type": "code",
   "execution_count": 87,
   "id": "a85da0f4",
   "metadata": {},
   "outputs": [
    {
     "data": {
      "text/plain": [
       "(60000, 28, 28)"
      ]
     },
     "execution_count": 87,
     "metadata": {},
     "output_type": "execute_result"
    }
   ],
   "source": [
    "x_train_full.shape"
   ]
  },
  {
   "cell_type": "code",
   "execution_count": 88,
   "id": "8be1afef",
   "metadata": {},
   "outputs": [],
   "source": [
    "x_valid ,  x_train = x_train_full[0:5000]/255. , x_train_full[5000:]/255.\n",
    "y_valid ,  y_train = y_train_full[0:5000] , y_train_full[5000:]"
   ]
  },
  {
   "cell_type": "code",
   "execution_count": 92,
   "id": "57e96699",
   "metadata": {},
   "outputs": [],
   "source": [
    "def split (x,y):\n",
    "    y_5or_6=(y==5)|(y==6)\n",
    "    y_a=y[~y_5or_6]\n",
    "    y_a[y_a>6]-=2\n",
    "    y_b=(y[y_5or_6]==6).astype(np.float32)\n",
    "    return((x[~y_5or_6],y_a),(x[y_5or_6],y_b))\n",
    "(xa_train,ya_train),(xb_train,yb_train)=split(x_train,y_train)\n",
    "(xa_valid,ya_valid),(xb_valid,yb_valid)=split(x_valid,y_valid)\n",
    "(xa_test,ya_test),(xb_test,yb_test)=split(x_test,y_test)\n",
    "xb_train=xb_train[0:200]\n",
    "yb_train=yb_train[0:200]\n"
   ]
  },
  {
   "cell_type": "code",
   "execution_count": null,
   "id": "0bf6b266",
   "metadata": {},
   "outputs": [],
   "source": []
  },
  {
   "cell_type": "code",
   "execution_count": 90,
   "id": "ab743d0f",
   "metadata": {},
   "outputs": [
    {
     "data": {
      "text/plain": [
       "(43986, 28, 28)"
      ]
     },
     "execution_count": 90,
     "metadata": {},
     "output_type": "execute_result"
    }
   ],
   "source": [
    "xa_train.shape"
   ]
  },
  {
   "cell_type": "code",
   "execution_count": 93,
   "id": "7415fddf",
   "metadata": {},
   "outputs": [
    {
     "data": {
      "text/plain": [
       "(200, 28, 28)"
      ]
     },
     "execution_count": 93,
     "metadata": {},
     "output_type": "execute_result"
    }
   ],
   "source": [
    "xb_train.shape\n"
   ]
  },
  {
   "cell_type": "code",
   "execution_count": 94,
   "id": "e776696a",
   "metadata": {},
   "outputs": [],
   "source": [
    "model_A = ks.models.Sequential()\n",
    "model_A.add(ks.layers.Flatten(input_shape=[28, 28]))\n",
    "for n_hidden in (300, 100, 50, 50, 50):\n",
    "    model_A.add(ks.layers.Dense(n_hidden, activation=\"selu\"))\n",
    "model_A.add(ks.layers.Dense(8, activation=\"softmax\"))"
   ]
  },
  {
   "cell_type": "code",
   "execution_count": null,
   "id": "6108c338",
   "metadata": {},
   "outputs": [],
   "source": []
  },
  {
   "cell_type": "code",
   "execution_count": 95,
   "id": "63e25ad3",
   "metadata": {},
   "outputs": [],
   "source": [
    "model_A.compile(loss=\"sparse_categorical_crossentropy\",\n",
    "                optimizer=ks.optimizers.SGD(learning_rate=1e-3),\n",
    "                metrics=[\"accuracy\"])"
   ]
  },
  {
   "cell_type": "code",
   "execution_count": null,
   "id": "85c05b92",
   "metadata": {},
   "outputs": [],
   "source": []
  },
  {
   "cell_type": "code",
   "execution_count": 96,
   "id": "b564d77d",
   "metadata": {},
   "outputs": [
    {
     "name": "stdout",
     "output_type": "stream",
     "text": [
      "Epoch 1/20\n",
      "1375/1375 [==============================] - 7s 4ms/step - loss: 0.5691 - accuracy: 0.8129 - val_loss: 0.3954 - val_accuracy: 0.8607\n",
      "Epoch 2/20\n",
      "1375/1375 [==============================] - 6s 4ms/step - loss: 0.3572 - accuracy: 0.8756 - val_loss: 0.3345 - val_accuracy: 0.8804\n",
      "Epoch 3/20\n",
      "1375/1375 [==============================] - 6s 4ms/step - loss: 0.3196 - accuracy: 0.8884 - val_loss: 0.3026 - val_accuracy: 0.8956\n",
      "Epoch 4/20\n",
      "1375/1375 [==============================] - 6s 4ms/step - loss: 0.2996 - accuracy: 0.8959 - val_loss: 0.2883 - val_accuracy: 0.8974\n",
      "Epoch 5/20\n",
      "1375/1375 [==============================] - 6s 4ms/step - loss: 0.2861 - accuracy: 0.8995 - val_loss: 0.2769 - val_accuracy: 0.9048\n",
      "Epoch 6/20\n",
      "1375/1375 [==============================] - 6s 4ms/step - loss: 0.2759 - accuracy: 0.9044 - val_loss: 0.2711 - val_accuracy: 0.9033\n",
      "Epoch 7/20\n",
      "1375/1375 [==============================] - 5s 4ms/step - loss: 0.2673 - accuracy: 0.9075 - val_loss: 0.2686 - val_accuracy: 0.9046\n",
      "Epoch 8/20\n",
      "1375/1375 [==============================] - 6s 4ms/step - loss: 0.2605 - accuracy: 0.9104 - val_loss: 0.2595 - val_accuracy: 0.9098\n",
      "Epoch 9/20\n",
      "1375/1375 [==============================] - 6s 4ms/step - loss: 0.2549 - accuracy: 0.9123 - val_loss: 0.2540 - val_accuracy: 0.9118\n",
      "Epoch 10/20\n",
      "1375/1375 [==============================] - 6s 4ms/step - loss: 0.2499 - accuracy: 0.9150 - val_loss: 0.2520 - val_accuracy: 0.9121\n",
      "Epoch 11/20\n",
      "1375/1375 [==============================] - 5s 4ms/step - loss: 0.2454 - accuracy: 0.9161 - val_loss: 0.2488 - val_accuracy: 0.9126\n",
      "Epoch 12/20\n",
      "1375/1375 [==============================] - 5s 4ms/step - loss: 0.2409 - accuracy: 0.9181 - val_loss: 0.2448 - val_accuracy: 0.9126\n",
      "Epoch 13/20\n",
      "1375/1375 [==============================] - 5s 4ms/step - loss: 0.2376 - accuracy: 0.9188 - val_loss: 0.2440 - val_accuracy: 0.9123\n",
      "Epoch 14/20\n",
      "1375/1375 [==============================] - 6s 4ms/step - loss: 0.2340 - accuracy: 0.9201 - val_loss: 0.2407 - val_accuracy: 0.9148\n",
      "Epoch 15/20\n",
      "1375/1375 [==============================] - 5s 3ms/step - loss: 0.2309 - accuracy: 0.9208 - val_loss: 0.2449 - val_accuracy: 0.9143\n",
      "Epoch 16/20\n",
      "1375/1375 [==============================] - 6s 4ms/step - loss: 0.2279 - accuracy: 0.9219 - val_loss: 0.2393 - val_accuracy: 0.9148\n",
      "Epoch 17/20\n",
      "1375/1375 [==============================] - 5s 4ms/step - loss: 0.2253 - accuracy: 0.9228 - val_loss: 0.2410 - val_accuracy: 0.9141\n",
      "Epoch 18/20\n",
      "1375/1375 [==============================] - 5s 4ms/step - loss: 0.2220 - accuracy: 0.9232 - val_loss: 0.2502 - val_accuracy: 0.9106\n",
      "Epoch 19/20\n",
      "1375/1375 [==============================] - 5s 3ms/step - loss: 0.2197 - accuracy: 0.9256 - val_loss: 0.2323 - val_accuracy: 0.9193\n",
      "Epoch 20/20\n",
      "1375/1375 [==============================] - 5s 3ms/step - loss: 0.2174 - accuracy: 0.9248 - val_loss: 0.2331 - val_accuracy: 0.9170\n"
     ]
    }
   ],
   "source": [
    "history = model_A.fit(xa_train, ya_train, epochs=20,\n",
    "                    validation_data=(xa_valid, ya_valid))"
   ]
  },
  {
   "cell_type": "code",
   "execution_count": 98,
   "id": "7a78c751",
   "metadata": {},
   "outputs": [],
   "source": [
    "model_A.save(\"my_model_A.h5\")"
   ]
  },
  {
   "cell_type": "code",
   "execution_count": 99,
   "id": "6eb6e8ec",
   "metadata": {},
   "outputs": [],
   "source": [
    "model_B = ks.models.Sequential()\n",
    "model_B.add(ks.layers.Flatten(input_shape=[28, 28]))\n",
    "for n_hidden in (300, 100, 50, 50, 50):\n",
    "    model_B.add(ks.layers.Dense(n_hidden, activation=\"selu\"))\n",
    "model_B.add(ks.layers.Dense(1, activation=\"sigmoid\"))"
   ]
  },
  {
   "cell_type": "code",
   "execution_count": 100,
   "id": "311c6083",
   "metadata": {},
   "outputs": [],
   "source": [
    "model_B.compile(loss=\"binary_crossentropy\",\n",
    "                optimizer=ks.optimizers.SGD(learning_rate=1e-3),\n",
    "                metrics=[\"accuracy\"])"
   ]
  },
  {
   "cell_type": "code",
   "execution_count": 102,
   "id": "c62ec025",
   "metadata": {},
   "outputs": [
    {
     "name": "stdout",
     "output_type": "stream",
     "text": [
      "Epoch 1/20\n",
      "7/7 [==============================] - 0s 79ms/step - loss: 0.3231 - accuracy: 0.9200 - val_loss: 0.3316 - val_accuracy: 0.9097\n",
      "Epoch 2/20\n",
      "7/7 [==============================] - 0s 21ms/step - loss: 0.2577 - accuracy: 0.9450 - val_loss: 0.2831 - val_accuracy: 0.9249\n",
      "Epoch 3/20\n",
      "7/7 [==============================] - 0s 27ms/step - loss: 0.2156 - accuracy: 0.9550 - val_loss: 0.2467 - val_accuracy: 0.9462\n",
      "Epoch 4/20\n",
      "7/7 [==============================] - 0s 33ms/step - loss: 0.1845 - accuracy: 0.9700 - val_loss: 0.2205 - val_accuracy: 0.9544\n",
      "Epoch 5/20\n",
      "7/7 [==============================] - 0s 35ms/step - loss: 0.1607 - accuracy: 0.9750 - val_loss: 0.2007 - val_accuracy: 0.9604\n",
      "Epoch 6/20\n",
      "7/7 [==============================] - 0s 27ms/step - loss: 0.1431 - accuracy: 0.9800 - val_loss: 0.1854 - val_accuracy: 0.9635\n",
      "Epoch 7/20\n",
      "7/7 [==============================] - 0s 35ms/step - loss: 0.1294 - accuracy: 0.9850 - val_loss: 0.1745 - val_accuracy: 0.9635\n",
      "Epoch 8/20\n",
      "7/7 [==============================] - 0s 33ms/step - loss: 0.1185 - accuracy: 0.9850 - val_loss: 0.1632 - val_accuracy: 0.9665\n",
      "Epoch 9/20\n",
      "7/7 [==============================] - 0s 27ms/step - loss: 0.1087 - accuracy: 0.9850 - val_loss: 0.1511 - val_accuracy: 0.9706\n",
      "Epoch 10/20\n",
      "7/7 [==============================] - 0s 21ms/step - loss: 0.0990 - accuracy: 0.9850 - val_loss: 0.1430 - val_accuracy: 0.9706\n",
      "Epoch 11/20\n",
      "7/7 [==============================] - 0s 31ms/step - loss: 0.0918 - accuracy: 0.9850 - val_loss: 0.1366 - val_accuracy: 0.9716\n",
      "Epoch 12/20\n",
      "7/7 [==============================] - 0s 24ms/step - loss: 0.0856 - accuracy: 0.9850 - val_loss: 0.1308 - val_accuracy: 0.9726\n",
      "Epoch 13/20\n",
      "7/7 [==============================] - 0s 28ms/step - loss: 0.0803 - accuracy: 0.9900 - val_loss: 0.1254 - val_accuracy: 0.9736\n",
      "Epoch 14/20\n",
      "7/7 [==============================] - 0s 34ms/step - loss: 0.0754 - accuracy: 0.9900 - val_loss: 0.1209 - val_accuracy: 0.9736\n",
      "Epoch 15/20\n",
      "7/7 [==============================] - 0s 31ms/step - loss: 0.0711 - accuracy: 0.9900 - val_loss: 0.1164 - val_accuracy: 0.9787\n",
      "Epoch 16/20\n",
      "7/7 [==============================] - 0s 32ms/step - loss: 0.0675 - accuracy: 0.9900 - val_loss: 0.1128 - val_accuracy: 0.9787\n",
      "Epoch 17/20\n",
      "7/7 [==============================] - 0s 25ms/step - loss: 0.0642 - accuracy: 0.9900 - val_loss: 0.1097 - val_accuracy: 0.9777\n",
      "Epoch 18/20\n",
      "7/7 [==============================] - 0s 33ms/step - loss: 0.0612 - accuracy: 0.9900 - val_loss: 0.1068 - val_accuracy: 0.9787\n",
      "Epoch 19/20\n",
      "7/7 [==============================] - 0s 28ms/step - loss: 0.0585 - accuracy: 0.9950 - val_loss: 0.1040 - val_accuracy: 0.9787\n",
      "Epoch 20/20\n",
      "7/7 [==============================] - 0s 27ms/step - loss: 0.0560 - accuracy: 0.9950 - val_loss: 0.1019 - val_accuracy: 0.9807\n"
     ]
    }
   ],
   "source": [
    "history = model_B.fit(xb_train, yb_train, epochs=20,\n",
    "                      validation_data=(xb_valid, yb_valid))"
   ]
  },
  {
   "cell_type": "code",
   "execution_count": null,
   "id": "01f63d5c",
   "metadata": {},
   "outputs": [],
   "source": []
  },
  {
   "cell_type": "code",
   "execution_count": null,
   "id": "c4bcd507",
   "metadata": {},
   "outputs": [],
   "source": []
  },
  {
   "cell_type": "code",
   "execution_count": 103,
   "id": "5139fe4f",
   "metadata": {},
   "outputs": [
    {
     "name": "stdout",
     "output_type": "stream",
     "text": [
      "Model: \"sequential_2\"\n",
      "_________________________________________________________________\n",
      " Layer (type)                Output Shape              Param #   \n",
      "=================================================================\n",
      " flatten_1 (Flatten)         (None, 784)               0         \n",
      "                                                                 \n",
      " dense_8 (Dense)             (None, 300)               235500    \n",
      "                                                                 \n",
      " dense_9 (Dense)             (None, 100)               30100     \n",
      "                                                                 \n",
      " dense_10 (Dense)            (None, 50)                5050      \n",
      "                                                                 \n",
      " dense_11 (Dense)            (None, 50)                2550      \n",
      "                                                                 \n",
      " dense_12 (Dense)            (None, 50)                2550      \n",
      "                                                                 \n",
      " dense_13 (Dense)            (None, 1)                 51        \n",
      "                                                                 \n",
      "=================================================================\n",
      "Total params: 275,801\n",
      "Trainable params: 275,801\n",
      "Non-trainable params: 0\n",
      "_________________________________________________________________\n"
     ]
    }
   ],
   "source": [
    "model_B.summary()"
   ]
  },
  {
   "cell_type": "code",
   "execution_count": 104,
   "id": "28d4dacb",
   "metadata": {},
   "outputs": [],
   "source": [
    "model_A=ks.models.load_model(\"my_model_A.h5\")\n",
    "model_B_on_A = ks.models.Sequential(model_A.layers[:-1])\n",
    "model_B_on_A.add(ks.layers.Dense(1, activation=\"sigmoid\"))"
   ]
  },
  {
   "cell_type": "code",
   "execution_count": null,
   "id": "efc5ffed",
   "metadata": {},
   "outputs": [],
   "source": []
  },
  {
   "cell_type": "code",
   "execution_count": null,
   "id": "92e4113e",
   "metadata": {},
   "outputs": [],
   "source": []
  },
  {
   "cell_type": "code",
   "execution_count": 53,
   "id": "ee2d6cd9",
   "metadata": {},
   "outputs": [
    {
     "data": {
      "text/plain": [
       "array([[[0., 0., 0., ..., 0., 0., 0.],\n",
       "        [0., 0., 0., ..., 0., 0., 0.],\n",
       "        [0., 0., 0., ..., 0., 0., 0.],\n",
       "        ...,\n",
       "        [0., 0., 0., ..., 0., 0., 0.],\n",
       "        [0., 0., 0., ..., 0., 0., 0.],\n",
       "        [0., 0., 0., ..., 0., 0., 0.]],\n",
       "\n",
       "       [[0., 0., 0., ..., 0., 0., 0.],\n",
       "        [0., 0., 0., ..., 0., 0., 0.],\n",
       "        [0., 0., 0., ..., 0., 0., 0.],\n",
       "        ...,\n",
       "        [0., 0., 0., ..., 0., 0., 0.],\n",
       "        [0., 0., 0., ..., 0., 0., 0.],\n",
       "        [0., 0., 0., ..., 0., 0., 0.]],\n",
       "\n",
       "       [[0., 0., 0., ..., 0., 0., 0.],\n",
       "        [0., 0., 0., ..., 0., 0., 0.],\n",
       "        [0., 0., 0., ..., 0., 0., 0.],\n",
       "        ...,\n",
       "        [0., 0., 0., ..., 0., 0., 0.],\n",
       "        [0., 0., 0., ..., 0., 0., 0.],\n",
       "        [0., 0., 0., ..., 0., 0., 0.]],\n",
       "\n",
       "       ...,\n",
       "\n",
       "       [[0., 0., 0., ..., 0., 0., 0.],\n",
       "        [0., 0., 0., ..., 0., 0., 0.],\n",
       "        [0., 0., 0., ..., 0., 0., 0.],\n",
       "        ...,\n",
       "        [0., 0., 0., ..., 0., 0., 0.],\n",
       "        [0., 0., 0., ..., 0., 0., 0.],\n",
       "        [0., 0., 0., ..., 0., 0., 0.]],\n",
       "\n",
       "       [[0., 0., 0., ..., 0., 0., 0.],\n",
       "        [0., 0., 0., ..., 0., 0., 0.],\n",
       "        [0., 0., 0., ..., 0., 0., 0.],\n",
       "        ...,\n",
       "        [0., 0., 0., ..., 0., 0., 0.],\n",
       "        [0., 0., 0., ..., 0., 0., 0.],\n",
       "        [0., 0., 0., ..., 0., 0., 0.]],\n",
       "\n",
       "       [[0., 0., 0., ..., 0., 0., 0.],\n",
       "        [0., 0., 0., ..., 0., 0., 0.],\n",
       "        [0., 0., 0., ..., 0., 0., 0.],\n",
       "        ...,\n",
       "        [0., 0., 0., ..., 0., 0., 0.],\n",
       "        [0., 0., 0., ..., 0., 0., 0.],\n",
       "        [0., 0., 0., ..., 0., 0., 0.]]])"
      ]
     },
     "execution_count": 53,
     "metadata": {},
     "output_type": "execute_result"
    }
   ],
   "source": [
    "x_train"
   ]
  },
  {
   "cell_type": "code",
   "execution_count": 54,
   "id": "3c22323b",
   "metadata": {},
   "outputs": [
    {
     "data": {
      "text/plain": [
       "array([4, 0, 7, ..., 3, 0, 5], dtype=uint8)"
      ]
     },
     "execution_count": 54,
     "metadata": {},
     "output_type": "execute_result"
    }
   ],
   "source": [
    "y_train"
   ]
  },
  {
   "cell_type": "code",
   "execution_count": null,
   "id": "ce61ac2b",
   "metadata": {},
   "outputs": [],
   "source": []
  },
  {
   "cell_type": "code",
   "execution_count": null,
   "id": "9aa38c5b",
   "metadata": {},
   "outputs": [],
   "source": []
  },
  {
   "cell_type": "code",
   "execution_count": null,
   "id": "cbeb066a",
   "metadata": {},
   "outputs": [],
   "source": []
  },
  {
   "cell_type": "code",
   "execution_count": 55,
   "id": "05934978",
   "metadata": {},
   "outputs": [
    {
     "data": {
      "text/plain": [
       "dtype('uint8')"
      ]
     },
     "execution_count": 55,
     "metadata": {},
     "output_type": "execute_result"
    }
   ],
   "source": [
    "x_train_full.dtype"
   ]
  },
  {
   "cell_type": "code",
   "execution_count": null,
   "id": "5556fb14",
   "metadata": {},
   "outputs": [],
   "source": []
  },
  {
   "cell_type": "code",
   "execution_count": 56,
   "id": "30a3865a",
   "metadata": {},
   "outputs": [],
   "source": [
    "x_test=x_test/255"
   ]
  },
  {
   "cell_type": "code",
   "execution_count": 57,
   "id": "b982f1d4",
   "metadata": {},
   "outputs": [],
   "source": [
    "model = ks.models.Sequential()\n",
    "model.add(ks.layers.Flatten(input_shape=[28,28]))\n",
    "model.add(ks.layers.BatchNormalization())\n",
    "model.add(ks.layers.Dense(200,activation=\"relu\",kernel_initializer=\"he_normal\"))\n",
    "model.add(ks.layers.BatchNormalization())"
   ]
  },
  {
   "cell_type": "code",
   "execution_count": null,
   "id": "b98ea88a",
   "metadata": {},
   "outputs": [],
   "source": []
  },
  {
   "cell_type": "code",
   "execution_count": 58,
   "id": "54a2c31e",
   "metadata": {},
   "outputs": [],
   "source": [
    "model.add(ks.layers.Dense(50,activation=\"relu\",kernel_initializer=\"he_normal\"))\n",
    "model.add(ks.layers.BatchNormalization())\n",
    "model.add(ks.layers.Dense(10,activation=\"softmax\"))"
   ]
  },
  {
   "cell_type": "code",
   "execution_count": null,
   "id": "c9ce5b7f",
   "metadata": {},
   "outputs": [],
   "source": []
  },
  {
   "cell_type": "code",
   "execution_count": 59,
   "id": "d58fc310",
   "metadata": {},
   "outputs": [],
   "source": [
    "ks.backend.clear_session()\n",
    "np.random.seed(42)\n",
    "tf.random.set_seed(42)"
   ]
  },
  {
   "cell_type": "code",
   "execution_count": 60,
   "id": "6026bdf2",
   "metadata": {},
   "outputs": [
    {
     "data": {
      "text/plain": [
       "[<keras.layers.reshaping.flatten.Flatten at 0x203f3bfc700>,\n",
       " <keras.layers.normalization.batch_normalization.BatchNormalization at 0x203f3bfcbb0>,\n",
       " <keras.layers.core.dense.Dense at 0x203f3bbbf10>,\n",
       " <keras.layers.normalization.batch_normalization.BatchNormalization at 0x203f3bf8340>,\n",
       " <keras.layers.core.dense.Dense at 0x203f3efedc0>,\n",
       " <keras.layers.normalization.batch_normalization.BatchNormalization at 0x203f3efeca0>,\n",
       " <keras.layers.core.dense.Dense at 0x203f3bf7fd0>]"
      ]
     },
     "execution_count": 60,
     "metadata": {},
     "output_type": "execute_result"
    }
   ],
   "source": [
    "model.layers"
   ]
  },
  {
   "cell_type": "code",
   "execution_count": 61,
   "id": "68bc3ee0",
   "metadata": {},
   "outputs": [
    {
     "name": "stdout",
     "output_type": "stream",
     "text": [
      "Model: \"sequential_2\"\n",
      "_________________________________________________________________\n",
      " Layer (type)                Output Shape              Param #   \n",
      "=================================================================\n",
      " flatten_1 (Flatten)         (None, 784)               0         \n",
      "                                                                 \n",
      " batch_normalization_3 (Batc  (None, 784)              3136      \n",
      " hNormalization)                                                 \n",
      "                                                                 \n",
      " dense_5 (Dense)             (None, 200)               157000    \n",
      "                                                                 \n",
      " batch_normalization_4 (Batc  (None, 200)              800       \n",
      " hNormalization)                                                 \n",
      "                                                                 \n",
      " dense_6 (Dense)             (None, 50)                10050     \n",
      "                                                                 \n",
      " batch_normalization_5 (Batc  (None, 50)               200       \n",
      " hNormalization)                                                 \n",
      "                                                                 \n",
      " dense_7 (Dense)             (None, 10)                510       \n",
      "                                                                 \n",
      "=================================================================\n",
      "Total params: 171,696\n",
      "Trainable params: 169,628\n",
      "Non-trainable params: 2,068\n",
      "_________________________________________________________________\n"
     ]
    }
   ],
   "source": [
    "model.summary()"
   ]
  },
  {
   "cell_type": "code",
   "execution_count": 62,
   "id": "6bd22bf9",
   "metadata": {},
   "outputs": [
    {
     "name": "stdout",
     "output_type": "stream",
     "text": [
      "You must install pydot (`pip install pydot`) and install graphviz (see instructions at https://graphviz.gitlab.io/download/) for plot_model/model_to_dot to work.\n"
     ]
    }
   ],
   "source": [
    "ks.utils.plot_model(model, \"my_fashion_mnist_model.png\", show_shapes=True)"
   ]
  },
  {
   "cell_type": "code",
   "execution_count": 63,
   "id": "23b64b7e",
   "metadata": {},
   "outputs": [],
   "source": [
    "model.compile(loss=\"sparse_categorical_crossentropy\", optimizer=\"sgd\",metrics=[\"accuracy\"])"
   ]
  },
  {
   "cell_type": "code",
   "execution_count": null,
   "id": "4ed9c88b",
   "metadata": {},
   "outputs": [],
   "source": []
  },
  {
   "cell_type": "code",
   "execution_count": 64,
   "id": "fa904111",
   "metadata": {},
   "outputs": [],
   "source": [
    "model.compile(loss=\"sparse_categorical_crossentropy\",\n",
    "              optimizer=ks.\"sgd\",\n",
    "              metrics=[\"accuracy\"])"
   ]
  },
  {
   "cell_type": "code",
   "execution_count": null,
   "id": "6ee1a17f",
   "metadata": {},
   "outputs": [],
   "source": [
    "optimi"
   ]
  },
  {
   "cell_type": "code",
   "execution_count": null,
   "id": "91fc9393",
   "metadata": {},
   "outputs": [],
   "source": []
  },
  {
   "cell_type": "code",
   "execution_count": null,
   "id": "c4f31db1",
   "metadata": {},
   "outputs": [],
   "source": []
  },
  {
   "cell_type": "code",
   "execution_count": 65,
   "id": "897db340",
   "metadata": {},
   "outputs": [
    {
     "name": "stdout",
     "output_type": "stream",
     "text": [
      "Epoch 1/20\n",
      "1719/1719 [==============================] - 10s 5ms/step - loss: 0.5964 - accuracy: 0.7966 - val_loss: 0.4066 - val_accuracy: 0.8606\n",
      "Epoch 2/20\n",
      "1719/1719 [==============================] - 7s 4ms/step - loss: 0.4279 - accuracy: 0.8469 - val_loss: 0.3642 - val_accuracy: 0.8712\n",
      "Epoch 3/20\n",
      "1719/1719 [==============================] - 7s 4ms/step - loss: 0.3893 - accuracy: 0.8609 - val_loss: 0.3560 - val_accuracy: 0.8722\n",
      "Epoch 4/20\n",
      "1719/1719 [==============================] - 7s 4ms/step - loss: 0.3585 - accuracy: 0.8704 - val_loss: 0.3330 - val_accuracy: 0.8824\n",
      "Epoch 5/20\n",
      "1719/1719 [==============================] - 7s 4ms/step - loss: 0.3375 - accuracy: 0.8777 - val_loss: 0.3252 - val_accuracy: 0.8842\n",
      "Epoch 6/20\n",
      "1719/1719 [==============================] - 7s 4ms/step - loss: 0.3216 - accuracy: 0.8825 - val_loss: 0.3226 - val_accuracy: 0.8822\n",
      "Epoch 7/20\n",
      "1719/1719 [==============================] - 7s 4ms/step - loss: 0.3082 - accuracy: 0.8884 - val_loss: 0.3182 - val_accuracy: 0.8844\n",
      "Epoch 8/20\n",
      "1719/1719 [==============================] - 7s 4ms/step - loss: 0.2966 - accuracy: 0.8920 - val_loss: 0.3127 - val_accuracy: 0.8868\n",
      "Epoch 9/20\n",
      "1719/1719 [==============================] - 7s 4ms/step - loss: 0.2843 - accuracy: 0.8955 - val_loss: 0.3151 - val_accuracy: 0.8864\n",
      "Epoch 10/20\n",
      "1719/1719 [==============================] - 7s 4ms/step - loss: 0.2746 - accuracy: 0.8996 - val_loss: 0.3093 - val_accuracy: 0.8876\n",
      "Epoch 11/20\n",
      "1719/1719 [==============================] - 7s 4ms/step - loss: 0.2668 - accuracy: 0.9016 - val_loss: 0.3122 - val_accuracy: 0.8866\n",
      "Epoch 12/20\n",
      "1719/1719 [==============================] - 7s 4ms/step - loss: 0.2601 - accuracy: 0.9050 - val_loss: 0.3097 - val_accuracy: 0.8874\n",
      "Epoch 13/20\n",
      "1719/1719 [==============================] - 7s 4ms/step - loss: 0.2522 - accuracy: 0.9086 - val_loss: 0.3086 - val_accuracy: 0.8932\n",
      "Epoch 14/20\n",
      "1719/1719 [==============================] - 7s 4ms/step - loss: 0.2414 - accuracy: 0.9108 - val_loss: 0.3106 - val_accuracy: 0.8914\n",
      "Epoch 15/20\n",
      "1719/1719 [==============================] - 9s 5ms/step - loss: 0.2378 - accuracy: 0.9124 - val_loss: 0.3036 - val_accuracy: 0.8940\n",
      "Epoch 16/20\n",
      "1719/1719 [==============================] - 8s 4ms/step - loss: 0.2314 - accuracy: 0.9155 - val_loss: 0.3053 - val_accuracy: 0.8934\n",
      "Epoch 17/20\n",
      "1719/1719 [==============================] - 7s 4ms/step - loss: 0.2222 - accuracy: 0.9194 - val_loss: 0.3052 - val_accuracy: 0.8968\n",
      "Epoch 18/20\n",
      "1719/1719 [==============================] - 7s 4ms/step - loss: 0.2188 - accuracy: 0.9193 - val_loss: 0.3097 - val_accuracy: 0.8956\n",
      "Epoch 19/20\n",
      "1719/1719 [==============================] - 7s 4ms/step - loss: 0.2131 - accuracy: 0.9218 - val_loss: 0.3088 - val_accuracy: 0.8964\n",
      "Epoch 20/20\n",
      "1719/1719 [==============================] - 7s 4ms/step - loss: 0.2093 - accuracy: 0.9234 - val_loss: 0.3058 - val_accuracy: 0.8944\n"
     ]
    }
   ],
   "source": [
    "history = model.fit(x_train, y_train, epochs=20,\n",
    "                    validation_data=(x_valid, y_valid))"
   ]
  },
  {
   "cell_type": "code",
   "execution_count": null,
   "id": "97d80d02",
   "metadata": {},
   "outputs": [],
   "source": []
  },
  {
   "cell_type": "code",
   "execution_count": 66,
   "id": "5dad01da",
   "metadata": {},
   "outputs": [
    {
     "data": {
      "text/plain": [
       "{'verbose': 1, 'epochs': 20, 'steps': 1719}"
      ]
     },
     "execution_count": 66,
     "metadata": {},
     "output_type": "execute_result"
    }
   ],
   "source": [
    "history.params"
   ]
  },
  {
   "cell_type": "code",
   "execution_count": 67,
   "id": "85574e19",
   "metadata": {},
   "outputs": [
    {
     "data": {
      "text/plain": [
       "<AxesSubplot:>"
      ]
     },
     "execution_count": 67,
     "metadata": {},
     "output_type": "execute_result"
    },
    {
     "data": {
      "image/png": "[encoded data removed]",
      "text/plain": [
       "<Figure size 576x360 with 1 Axes>"
      ]
     },
     "metadata": {
      "needs_background": "light"
     },
     "output_type": "display_data"
    }
   ],
   "source": [
    "import pandas as pd \n",
    "import matplotlib as plt\n",
    "pd.DataFrame(history.history).plot(figsize=(8, 5))\n",
    "#plt.grid(True)\n",
    "#plt.gca().set_ylim(0, 1)\n",
    "#save_fig(\"keras_learning_curves_plot\")\n",
    "#plt.show()"
   ]
  },
  {
   "cell_type": "code",
   "execution_count": 68,
   "id": "dd461af5",
   "metadata": {},
   "outputs": [
    {
     "name": "stdout",
     "output_type": "stream",
     "text": [
      "313/313 [==============================] - 1s 2ms/step - loss: 0.3428 - accuracy: 0.8814\n"
     ]
    },
    {
     "data": {
      "text/plain": [
       "[0.34282800555229187, 0.8813999891281128]"
      ]
     },
     "execution_count": 68,
     "metadata": {},
     "output_type": "execute_result"
    }
   ],
   "source": [
    "model.evaluate(x_test, y_test)"
   ]
  },
  {
   "cell_type": "code",
   "execution_count": 69,
   "id": "bad684f4",
   "metadata": {},
   "outputs": [
    {
     "data": {
      "text/plain": [
       "<AxesSubplot:>"
      ]
     },
     "execution_count": 69,
     "metadata": {},
     "output_type": "execute_result"
    },
    {
     "data": {
      "image/png": "[encoded data removed]",
      "text/plain": [
       "<Figure size 576x360 with 1 Axes>"
      ]
     },
     "metadata": {
      "needs_background": "light"
     },
     "output_type": "display_data"
    }
   ],
   "source": [
    "#100\n",
    "pd.DataFrame(history.history).plot(figsize=(8, 5))"
   ]
  },
  {
   "cell_type": "code",
   "execution_count": 70,
   "id": "04887f5b",
   "metadata": {},
   "outputs": [
    {
     "name": "stdout",
     "output_type": "stream",
     "text": [
      "313/313 [==============================] - 1s 2ms/step - loss: 0.3428 - accuracy: 0.8814\n"
     ]
    },
    {
     "data": {
      "text/plain": [
       "[0.34282800555229187, 0.8813999891281128]"
      ]
     },
     "execution_count": 70,
     "metadata": {},
     "output_type": "execute_result"
    }
   ],
   "source": [
    "model.evaluate(x_test, y_test)"
   ]
  },
  {
   "cell_type": "code",
   "execution_count": 71,
   "id": "d002a82c",
   "metadata": {},
   "outputs": [
    {
     "data": {
      "text/plain": [
       "<AxesSubplot:>"
      ]
     },
     "execution_count": 71,
     "metadata": {},
     "output_type": "execute_result"
    },
    {
     "data": {
      "image/png": "[encoded data removed]",
      "text/plain": [
       "<Figure size 576x360 with 1 Axes>"
      ]
     },
     "metadata": {
      "needs_background": "light"
     },
     "output_type": "display_data"
    }
   ],
   "source": [
    "#50\n",
    "pd.DataFrame(history.history).plot(figsize=(8, 5))\n"
   ]
  },
  {
   "cell_type": "code",
   "execution_count": 72,
   "id": "33d1c771",
   "metadata": {},
   "outputs": [
    {
     "name": "stdout",
     "output_type": "stream",
     "text": [
      "313/313 [==============================] - 1s 2ms/step - loss: 0.3428 - accuracy: 0.8814\n"
     ]
    },
    {
     "data": {
      "text/plain": [
       "[0.34282800555229187, 0.8813999891281128]"
      ]
     },
     "execution_count": 72,
     "metadata": {},
     "output_type": "execute_result"
    }
   ],
   "source": [
    "model.evaluate(x_test, y_test)"
   ]
  },
  {
   "cell_type": "code",
   "execution_count": null,
   "id": "7c9710d6",
   "metadata": {},
   "outputs": [],
   "source": []
  },
  {
   "cell_type": "markdown",
   "id": "3520ff0b",
   "metadata": {},
   "source": [
    "# Regression MLP"
   ]
  },
  {
   "cell_type": "code",
   "execution_count": null,
   "id": "eb97fcef",
   "metadata": {},
   "outputs": [],
   "source": []
  },
  {
   "cell_type": "code",
   "execution_count": 73,
   "id": "b7d1c790",
   "metadata": {},
   "outputs": [],
   "source": [
    "from sklearn.datasets import fetch_california_housing\n",
    "from sklearn.model_selection import train_test_split\n",
    "from sklearn.preprocessing import StandardScaler\n"
   ]
  },
  {
   "cell_type": "code",
   "execution_count": 74,
   "id": "a595c6f1",
   "metadata": {},
   "outputs": [],
   "source": [
    "housing=fetch_california_housing()\n",
    "x_train_full ,x_test,y_train_full,y_test=train_test_split(housing.data,housing.target)"
   ]
  },
  {
   "cell_type": "code",
   "execution_count": null,
   "id": "4c9560e8",
   "metadata": {},
   "outputs": [],
   "source": []
  },
  {
   "cell_type": "code",
   "execution_count": 75,
   "id": "2363bd7c",
   "metadata": {},
   "outputs": [],
   "source": [
    "x_train,x_valid,y_train,y_valid=train_test_split(x_train_full,y_train_full)"
   ]
  },
  {
   "cell_type": "code",
   "execution_count": 76,
   "id": "ab389785",
   "metadata": {},
   "outputs": [],
   "source": [
    "scaler =StandardScaler()"
   ]
  },
  {
   "cell_type": "code",
   "execution_count": 77,
   "id": "d1222c0f",
   "metadata": {},
   "outputs": [],
   "source": [
    "x_train=scaler.fit_transform(x_train)\n",
    "x_valid=scaler.fit_transform(x_valid)\n",
    "x_test=scaler.fit_transform(x_test)"
   ]
  },
  {
   "cell_type": "code",
   "execution_count": 78,
   "id": "623c282a",
   "metadata": {},
   "outputs": [],
   "source": [
    "model=ks.models.Sequential([ks.layers.Dense(30, activation =\"relu\" ,input_shape=x_train.shape[1:]) ,  ks.layers.Dense(1)])"
   ]
  },
  {
   "cell_type": "code",
   "execution_count": 79,
   "id": "fff40021",
   "metadata": {},
   "outputs": [
    {
     "name": "stdout",
     "output_type": "stream",
     "text": [
      "Epoch 1/20\n",
      "363/363 [==============================] - 1s 2ms/step - loss: 1.6440 - val_loss: 0.8175\n",
      "Epoch 2/20\n",
      "363/363 [==============================] - 1s 2ms/step - loss: 0.7308 - val_loss: 0.6864\n",
      "Epoch 3/20\n",
      "363/363 [==============================] - 1s 2ms/step - loss: 0.6501 - val_loss: 0.6472\n",
      "Epoch 4/20\n",
      "363/363 [==============================] - 1s 2ms/step - loss: 0.6147 - val_loss: 0.6222\n",
      "Epoch 5/20\n",
      "363/363 [==============================] - 1s 2ms/step - loss: 0.5895 - val_loss: 0.5992\n",
      "Epoch 6/20\n",
      "363/363 [==============================] - 1s 2ms/step - loss: 0.5689 - val_loss: 0.5806\n",
      "Epoch 7/20\n",
      "363/363 [==============================] - 1s 2ms/step - loss: 0.5521 - val_loss: 0.5658\n",
      "Epoch 8/20\n",
      "363/363 [==============================] - 1s 2ms/step - loss: 0.5378 - val_loss: 0.5525\n",
      "Epoch 9/20\n",
      "363/363 [==============================] - 1s 2ms/step - loss: 0.5260 - val_loss: 0.5414\n",
      "Epoch 10/20\n",
      "363/363 [==============================] - 1s 2ms/step - loss: 0.5161 - val_loss: 0.5320\n",
      "Epoch 11/20\n",
      "363/363 [==============================] - 1s 2ms/step - loss: 0.5072 - val_loss: 0.5237\n",
      "Epoch 12/20\n",
      "363/363 [==============================] - 1s 2ms/step - loss: 0.4999 - val_loss: 0.5172\n",
      "Epoch 13/20\n",
      "363/363 [==============================] - 1s 2ms/step - loss: 0.4935 - val_loss: 0.5113\n",
      "Epoch 14/20\n",
      "363/363 [==============================] - 1s 2ms/step - loss: 0.4880 - val_loss: 0.5062\n",
      "Epoch 15/20\n",
      "363/363 [==============================] - 1s 2ms/step - loss: 0.4830 - val_loss: 0.5017\n",
      "Epoch 16/20\n",
      "363/363 [==============================] - 1s 2ms/step - loss: 0.4788 - val_loss: 0.4982\n",
      "Epoch 17/20\n",
      "363/363 [==============================] - 1s 2ms/step - loss: 0.4749 - val_loss: 0.4945\n",
      "Epoch 18/20\n",
      "363/363 [==============================] - 1s 2ms/step - loss: 0.4717 - val_loss: 0.4935\n",
      "Epoch 19/20\n",
      "363/363 [==============================] - 1s 2ms/step - loss: 0.4686 - val_loss: 0.4886\n",
      "Epoch 20/20\n",
      "363/363 [==============================] - 1s 2ms/step - loss: 0.4658 - val_loss: 0.4865\n",
      "162/162 [==============================] - 0s 2ms/step - loss: 0.4427\n",
      "1/1 [==============================] - 0s 45ms/step\n"
     ]
    }
   ],
   "source": [
    "model.compile(loss=\"mean_squared_error\", optimizer=ks.optimizers.SGD(learning_rate=1e-3))\n",
    "history = model.fit(x_train, y_train, epochs=20, validation_data=(x_valid, y_valid))\n",
    "mse_test = model.evaluate(x_test, y_test)\n",
    "X_new = x_test[:3]\n",
    "y_pred = model.predict(X_new)"
   ]
  },
  {
   "cell_type": "code",
   "execution_count": 80,
   "id": "3a48f8be",
   "metadata": {},
   "outputs": [
    {
     "ename": "AttributeError",
     "evalue": "module 'matplotlib' has no attribute 'plot'",
     "output_type": "error",
     "traceback": [
      "\u001b[1;31m---------------------------------------------------------------------------\u001b[0m",
      "\u001b[1;31mAttributeError\u001b[0m                            Traceback (most recent call last)",
      "\u001b[1;32m~\\AppData\\Local\\Temp/ipykernel_12824/1364280133.py\u001b[0m in \u001b[0;36m<module>\u001b[1;34m\u001b[0m\n\u001b[1;32m----> 1\u001b[1;33m \u001b[0mplt\u001b[0m\u001b[1;33m.\u001b[0m\u001b[0mplot\u001b[0m\u001b[1;33m(\u001b[0m\u001b[0mpd\u001b[0m\u001b[1;33m.\u001b[0m\u001b[0mDataFrame\u001b[0m\u001b[1;33m(\u001b[0m\u001b[0mhistory\u001b[0m\u001b[1;33m.\u001b[0m\u001b[0mhistory\u001b[0m\u001b[1;33m)\u001b[0m\u001b[1;33m)\u001b[0m\u001b[1;33m\u001b[0m\u001b[1;33m\u001b[0m\u001b[0m\n\u001b[0m",
      "\u001b[1;31mAttributeError\u001b[0m: module 'matplotlib' has no attribute 'plot'"
     ]
    }
   ],
   "source": [
    "plt.plot(pd.DataFrame(history.history))"
   ]
  },
  {
   "cell_type": "code",
   "execution_count": null,
   "id": "fde2b1b6",
   "metadata": {},
   "outputs": [],
   "source": [
    "pd.DataFrame(history.history).plot(figsize=(8, 5))"
   ]
  },
  {
   "cell_type": "code",
   "execution_count": null,
   "id": "8e43986d",
   "metadata": {},
   "outputs": [],
   "source": []
  },
  {
   "cell_type": "code",
   "execution_count": null,
   "id": "f3d9d640",
   "metadata": {},
   "outputs": [],
   "source": [
    "model.save(\"my_model.h5\")"
   ]
  },
  {
   "cell_type": "code",
   "execution_count": null,
   "id": "590eb850",
   "metadata": {},
   "outputs": [],
   "source": []
  },
  {
   "cell_type": "code",
   "execution_count": null,
   "id": "84ec8468",
   "metadata": {},
   "outputs": [],
   "source": [
    "model= ks.models.load_model(\"my_model.h5\")"
   ]
  },
  {
   "cell_type": "code",
   "execution_count": null,
   "id": "3dcceea9",
   "metadata": {},
   "outputs": [],
   "source": [
    "model.predict(X_new)"
   ]
  },
  {
   "cell_type": "code",
   "execution_count": null,
   "id": "b4ce2240",
   "metadata": {},
   "outputs": [],
   "source": [
    "X_new"
   ]
  },
  {
   "cell_type": "code",
   "execution_count": null,
   "id": "2796a64a",
   "metadata": {},
   "outputs": [],
   "source": [
    "x_test[0]"
   ]
  },
  {
   "cell_type": "code",
   "execution_count": null,
   "id": "f0a40f95",
   "metadata": {},
   "outputs": [],
   "source": [
    "model.compile(loss=\"mse\", optimizer=ks.optimizers.SGD(learning_rate=1e-3))\n",
    "ch=ks.callbacks.ModelCheckpoint(\"my_model.h5\",save_best_only=True)\n",
    "h1=model.fit(x_train,y_train, epochs=10 , validation_data=(x_valid,y_valid),callbacks=[ch])\n",
    "model=ks.models.load_model(\"my_model.h5\")\n",
    "\n",
    "\n"
   ]
  },
  {
   "cell_type": "code",
   "execution_count": null,
   "id": "8c68c575",
   "metadata": {},
   "outputs": [],
   "source": [
    "mse_test = model.evaluate(x_test, y_test)"
   ]
  },
  {
   "cell_type": "code",
   "execution_count": null,
   "id": "7d3458f2",
   "metadata": {},
   "outputs": [],
   "source": [
    "model.compile(loss=\"mse\", optimizer=ks.optimizers.SGD(learning_rate=1e-3))\n",
    "es=ks.callbacks.EarlyStopping(patience=10,restore_best_weights=True)\n",
    "h1=model.fit(x_train,y_train, epochs=100 , validation_data=(x_valid,y_valid),callbacks=[ch,es])\n",
    "model=ks.models.load_model(\"my_model.h5\")\n",
    "\n",
    "mse_test = model.evaluate(x_test, y_test)"
   ]
  },
  {
   "cell_type": "code",
   "execution_count": null,
   "id": "035411a7",
   "metadata": {},
   "outputs": [],
   "source": [
    "mse_test = model.evaluate(x_test, y_test)"
   ]
  },
  {
   "cell_type": "code",
   "execution_count": null,
   "id": "92b0125a",
   "metadata": {},
   "outputs": [],
   "source": []
  },
  {
   "cell_type": "code",
   "execution_count": null,
   "id": "ec6c0d28",
   "metadata": {},
   "outputs": [],
   "source": []
  },
  {
   "cell_type": "code",
   "execution_count": null,
   "id": "7ab27b37",
   "metadata": {},
   "outputs": [],
   "source": []
  },
  {
   "cell_type": "code",
   "execution_count": null,
   "id": "727e7de5",
   "metadata": {},
   "outputs": [],
   "source": []
  },
  {
   "cell_type": "code",
   "execution_count": null,
   "id": "0d6edbb7",
   "metadata": {},
   "outputs": [],
   "source": []
  },
  {
   "cell_type": "code",
   "execution_count": null,
   "id": "596ff539",
   "metadata": {},
   "outputs": [],
   "source": []
  },
  {
   "cell_type": "code",
   "execution_count": null,
   "id": "de455ace",
   "metadata": {},
   "outputs": [],
   "source": []
  },
  {
   "cell_type": "code",
   "execution_count": null,
   "id": "7667516d",
   "metadata": {},
   "outputs": [],
   "source": [
    "x_train.shape"
   ]
  },
  {
   "cell_type": "code",
   "execution_count": null,
   "id": "a0704dc1",
   "metadata": {},
   "outputs": [],
   "source": []
  },
  {
   "cell_type": "code",
   "execution_count": null,
   "id": "bb062617",
   "metadata": {},
   "outputs": [],
   "source": []
  },
  {
   "cell_type": "code",
   "execution_count": null,
   "id": "716d8c33",
   "metadata": {},
   "outputs": [],
   "source": []
  },
  {
   "cell_type": "code",
   "execution_count": null,
   "id": "4e8c6e14",
   "metadata": {},
   "outputs": [],
   "source": []
  },
  {
   "cell_type": "code",
   "execution_count": null,
   "id": "2f82bb42",
   "metadata": {},
   "outputs": [],
   "source": []
  },
  {
   "cell_type": "code",
   "execution_count": null,
   "id": "ad186faa",
   "metadata": {},
   "outputs": [],
   "source": []
  },
  {
   "cell_type": "code",
   "execution_count": null,
   "id": "a16e582f",
   "metadata": {},
   "outputs": [],
   "source": []
  },
  {
   "cell_type": "code",
   "execution_count": null,
   "id": "a8d9c063",
   "metadata": {},
   "outputs": [],
   "source": []
  },
  {
   "cell_type": "code",
   "execution_count": null,
   "id": "67e94a8d",
   "metadata": {},
   "outputs": [],
   "source": []
  },
  {
   "cell_type": "code",
   "execution_count": null,
   "id": "496535e6",
   "metadata": {},
   "outputs": [],
   "source": []
  },
  {
   "cell_type": "code",
   "execution_count": null,
   "id": "72a39af6",
   "metadata": {},
   "outputs": [],
   "source": []
  },
  {
   "cell_type": "code",
   "execution_count": null,
   "id": "fd1da7ce",
   "metadata": {},
   "outputs": [],
   "source": []
  }
 ],
 "metadata": {
  "kernelspec": {
   "display_name": "Python 3 (ipykernel)",
   "language": "python",
   "name": "python3"
  },
  "language_info": {
   "codemirror_mode": {
    "name": "ipython",
    "version": 3
   },
   "file_extension": ".py",
   "mimetype": "text/x-python",
   "name": "python",
   "nbconvert_exporter": "python",
   "pygments_lexer": "ipython3",
   "version": "3.9.7"
  },
  "varInspector": {
   "cols": {
    "lenName": 16,
    "lenType": 16,
    "lenVar": 40
   },
   "kernels_config": {
    "python": {
     "delete_cmd_postfix": "",
     "delete_cmd_prefix": "del ",
     "library": "var_list.py",
     "varRefreshCmd": "print(var_dic_list())"
    },
    "r": {
     "delete_cmd_postfix": ") ",
     "delete_cmd_prefix": "rm(",
     "library": "var_list.r",
     "varRefreshCmd": "cat(var_dic_list()) "
    }
   },
   "types_to_exclude": [
    "module",
    "function",
    "builtin_function_or_method",
    "instance",
    "_Feature"
   ],
   "window_display": false
  }
 },
 "nbformat": 4,
 "nbformat_minor": 5
}
