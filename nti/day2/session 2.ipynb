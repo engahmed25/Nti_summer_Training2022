{
 "cells": [
  {
   "cell_type": "code",
   "execution_count": 3,
   "id": "7c69c1ea",
   "metadata": {},
   "outputs": [
    {
     "name": "stdout",
     "output_type": "stream",
     "text": [
      "Ahmed abdelmoneim \n"
     ]
    }
   ],
   "source": [
    "x = \"ahmed abdelmoneim \"\n",
    "print(x.capitalize())"
   ]
  },
  {
   "cell_type": "code",
   "execution_count": 4,
   "id": "7b6bafcd",
   "metadata": {},
   "outputs": [
    {
     "name": "stdout",
     "output_type": "stream",
     "text": [
      "False\n"
     ]
    }
   ],
   "source": [
    "print(x.isalpha())"
   ]
  },
  {
   "cell_type": "code",
   "execution_count": 5,
   "id": "1d97bd94",
   "metadata": {},
   "outputs": [
    {
     "name": "stdout",
     "output_type": "stream",
     "text": [
      "AHMED ABDELMONEIM \n"
     ]
    }
   ],
   "source": [
    "print(x.upper())"
   ]
  },
  {
   "cell_type": "code",
   "execution_count": 6,
   "id": "7ae29afb",
   "metadata": {},
   "outputs": [
    {
     "name": "stdout",
     "output_type": "stream",
     "text": [
      "ahmed abdelmoneim \n"
     ]
    }
   ],
   "source": [
    "print(x.lower())"
   ]
  },
  {
   "cell_type": "code",
   "execution_count": 7,
   "id": "f07688d2",
   "metadata": {},
   "outputs": [
    {
     "name": "stdout",
     "output_type": "stream",
     "text": [
      "Ahmed Abdelmoneim \n"
     ]
    }
   ],
   "source": [
    "print(x.title())"
   ]
  },
  {
   "cell_type": "code",
   "execution_count": 10,
   "id": "2b14ec9a",
   "metadata": {},
   "outputs": [
    {
     "name": "stdout",
     "output_type": "stream",
     "text": [
      "2\n"
     ]
    }
   ],
   "source": [
    "print(x.count('a'))"
   ]
  },
  {
   "cell_type": "code",
   "execution_count": 11,
   "id": "e6137dc2",
   "metadata": {},
   "outputs": [
    {
     "data": {
      "text/plain": [
       "True"
      ]
     },
     "execution_count": 11,
     "metadata": {},
     "output_type": "execute_result"
    }
   ],
   "source": [
    "x.islower()"
   ]
  },
  {
   "cell_type": "code",
   "execution_count": 12,
   "id": "e7794051",
   "metadata": {},
   "outputs": [
    {
     "data": {
      "text/plain": [
       "False"
      ]
     },
     "execution_count": 12,
     "metadata": {},
     "output_type": "execute_result"
    }
   ],
   "source": [
    "x.endswith(\"x\")"
   ]
  },
  {
   "cell_type": "code",
   "execution_count": 13,
   "id": "ff963263",
   "metadata": {},
   "outputs": [
    {
     "data": {
      "text/plain": [
       "0"
      ]
     },
     "execution_count": 13,
     "metadata": {},
     "output_type": "execute_result"
    }
   ],
   "source": [
    "x.find(\"a\")"
   ]
  },
  {
   "cell_type": "code",
   "execution_count": 14,
   "id": "24dcb70e",
   "metadata": {},
   "outputs": [
    {
     "data": {
      "text/plain": [
       "'zhmed zbdelmoneim '"
      ]
     },
     "execution_count": 14,
     "metadata": {},
     "output_type": "execute_result"
    }
   ],
   "source": [
    "x.replace(\"a\",\"z\")"
   ]
  },
  {
   "cell_type": "code",
   "execution_count": 15,
   "id": "2069cb59",
   "metadata": {},
   "outputs": [
    {
     "data": {
      "text/plain": [
       "'97'"
      ]
     },
     "execution_count": 15,
     "metadata": {},
     "output_type": "execute_result"
    }
   ],
   "source": [
    "str(97)"
   ]
  },
  {
   "cell_type": "code",
   "execution_count": 17,
   "id": "f614b53f",
   "metadata": {},
   "outputs": [
    {
     "name": "stdout",
     "output_type": "stream",
     "text": [
      "[2, 'ahmed ', 3, 4, 5]\n"
     ]
    }
   ],
   "source": [
    "list_1 =[\"a\", 2, \"ahmed \", 3 , 4 ,5]\n",
    "list_1.remove(\"a\")\n",
    "print(list_1)"
   ]
  },
  {
   "cell_type": "code",
   "execution_count": 19,
   "id": "9f5771fa",
   "metadata": {},
   "outputs": [
    {
     "name": "stdout",
     "output_type": "stream",
     "text": [
      "[2, 'ahmed ', 3, 4, 5, 'S', 'S']\n"
     ]
    }
   ],
   "source": [
    "list_1.append(\"S\")\n",
    "print(list_1)"
   ]
  },
  {
   "cell_type": "code",
   "execution_count": 22,
   "id": "1c93089e",
   "metadata": {},
   "outputs": [
    {
     "data": {
      "text/plain": [
       "2"
      ]
     },
     "execution_count": 22,
     "metadata": {},
     "output_type": "execute_result"
    }
   ],
   "source": [
    "list_1.count('S')"
   ]
  },
  {
   "cell_type": "code",
   "execution_count": 23,
   "id": "08d4be72",
   "metadata": {},
   "outputs": [
    {
     "data": {
      "text/plain": [
       "[2, 'ahmed ', 3, 4, 5, 'S', 'S']"
      ]
     },
     "execution_count": 23,
     "metadata": {},
     "output_type": "execute_result"
    }
   ],
   "source": [
    "list_2 = list_1.copy()\n",
    "list_2"
   ]
  },
  {
   "cell_type": "code",
   "execution_count": 25,
   "id": "34637496",
   "metadata": {},
   "outputs": [
    {
     "data": {
      "text/plain": [
       "[]"
      ]
     },
     "execution_count": 25,
     "metadata": {},
     "output_type": "execute_result"
    }
   ],
   "source": [
    "list_1.clear()\n",
    "list_1"
   ]
  },
  {
   "cell_type": "code",
   "execution_count": 29,
   "id": "5d7bc782",
   "metadata": {},
   "outputs": [
    {
     "data": {
      "text/plain": [
       "['S', 'S', 5, 4, 3, 'ahmed ', 2]"
      ]
     },
     "execution_count": 29,
     "metadata": {},
     "output_type": "execute_result"
    }
   ],
   "source": [
    "list_2.reverse()\n",
    "list_2"
   ]
  },
  {
   "cell_type": "code",
   "execution_count": 32,
   "id": "329e46c9",
   "metadata": {},
   "outputs": [],
   "source": [
    "list_1=[1,9,8,5,9]"
   ]
  },
  {
   "cell_type": "code",
   "execution_count": 33,
   "id": "d37b28b6",
   "metadata": {},
   "outputs": [],
   "source": [
    "list_1.sort()"
   ]
  },
  {
   "cell_type": "code",
   "execution_count": 34,
   "id": "8e3ff097",
   "metadata": {},
   "outputs": [
    {
     "data": {
      "text/plain": [
       "[1, 5, 8, 9, 9]"
      ]
     },
     "execution_count": 34,
     "metadata": {},
     "output_type": "execute_result"
    }
   ],
   "source": [
    "list_1"
   ]
  },
  {
   "cell_type": "code",
   "execution_count": 37,
   "id": "5cc60618",
   "metadata": {},
   "outputs": [
    {
     "data": {
      "text/plain": [
       "2"
      ]
     },
     "execution_count": 37,
     "metadata": {},
     "output_type": "execute_result"
    }
   ],
   "source": [
    "t_1=(1,\"a\",3,2,\"h\",'a')\n",
    "t_1\n",
    "t_1.count('a')"
   ]
  },
  {
   "cell_type": "code",
   "execution_count": 38,
   "id": "f79243c7",
   "metadata": {},
   "outputs": [
    {
     "data": {
      "text/plain": [
       "2"
      ]
     },
     "execution_count": 38,
     "metadata": {},
     "output_type": "execute_result"
    }
   ],
   "source": [
    "t_1.index(3)"
   ]
  },
  {
   "cell_type": "code",
   "execution_count": 41,
   "id": "ead448f6",
   "metadata": {},
   "outputs": [],
   "source": [
    "s2 = {\"Ahmed\":14, \"Mustafa\":15, \"Mustafa\":20}"
   ]
  },
  {
   "cell_type": "code",
   "execution_count": 42,
   "id": "c715e816",
   "metadata": {},
   "outputs": [
    {
     "data": {
      "text/plain": [
       "dict_items([('Ahmed', 14), ('Mustafa', 20)])"
      ]
     },
     "execution_count": 42,
     "metadata": {},
     "output_type": "execute_result"
    }
   ],
   "source": [
    "s2.items()"
   ]
  },
  {
   "cell_type": "code",
   "execution_count": 43,
   "id": "5501f05c",
   "metadata": {},
   "outputs": [
    {
     "data": {
      "text/plain": [
       "dict_values([14, 20])"
      ]
     },
     "execution_count": 43,
     "metadata": {},
     "output_type": "execute_result"
    }
   ],
   "source": [
    "s2.values()"
   ]
  },
  {
   "cell_type": "code",
   "execution_count": 44,
   "id": "d35ab4d1",
   "metadata": {},
   "outputs": [
    {
     "data": {
      "text/plain": [
       "14"
      ]
     },
     "execution_count": 44,
     "metadata": {},
     "output_type": "execute_result"
    }
   ],
   "source": [
    "s2.get(\"Ahmed\")"
   ]
  },
  {
   "cell_type": "code",
   "execution_count": 45,
   "id": "bef6c0d0",
   "metadata": {},
   "outputs": [
    {
     "data": {
      "text/plain": [
       "('Mustafa', 20)"
      ]
     },
     "execution_count": 45,
     "metadata": {},
     "output_type": "execute_result"
    }
   ],
   "source": [
    "s2.popitem()"
   ]
  },
  {
   "cell_type": "code",
   "execution_count": 46,
   "id": "4bff97d4",
   "metadata": {},
   "outputs": [
    {
     "data": {
      "text/plain": [
       "{'Ahmed': 14}"
      ]
     },
     "execution_count": 46,
     "metadata": {},
     "output_type": "execute_result"
    }
   ],
   "source": [
    "s2"
   ]
  },
  {
   "cell_type": "code",
   "execution_count": 50,
   "id": "d66a66ce",
   "metadata": {},
   "outputs": [
    {
     "name": "stdout",
     "output_type": "stream",
     "text": [
      "input number458\n",
      "even\n"
     ]
    }
   ],
   "source": [
    "x = input(\"input number\")\n",
    "if int(x)%2==0 :\n",
    "    print(\"even\")\n",
    "else :\n",
    "    print(\"odd\")"
   ]
  },
  {
   "cell_type": "code",
   "execution_count": 56,
   "id": "127e5db7",
   "metadata": {},
   "outputs": [
    {
     "name": "stdout",
     "output_type": "stream",
     "text": [
      "1  is odd\n",
      "2  is even\n",
      "5  is odd\n",
      "6  is even\n",
      "6  is even\n",
      "8  is even\n",
      "8  is even\n",
      "9  is odd\n",
      "42  is even\n",
      "49  is odd\n",
      "49  is odd\n",
      "67  is odd\n",
      "96  is even\n",
      "448  is even\n",
      "44821  is odd\n",
      "48942  is even\n",
      "84512  is even\n"
     ]
    }
   ],
   "source": [
    "l_1=[1,2,5,8,9,96,42,67,8,49,49,44821,48942,84512,6,6,448]\n",
    "l_1.sort()\n",
    "for i in l_1:\n",
    "    if int(i)%2==0 :\n",
    "        print(i ,\" is even\")\n",
    "    else :\n",
    "        print(i , \" is odd\")"
   ]
  },
  {
   "cell_type": "code",
   "execution_count": 57,
   "id": "3c135085",
   "metadata": {},
   "outputs": [
    {
     "name": "stdout",
     "output_type": "stream",
     "text": [
      "1  is odd\n",
      "2  is even\n",
      "3  is odd\n",
      "4  is even\n",
      "5  is odd\n",
      "6  is even\n",
      "7  is odd\n",
      "8  is even\n",
      "9  is odd\n",
      "10  is even\n",
      "11  is odd\n",
      "12  is even\n",
      "13  is odd\n",
      "14  is even\n",
      "15  is odd\n",
      "16  is even\n",
      "17  is odd\n",
      "18  is even\n",
      "19  is odd\n"
     ]
    }
   ],
   "source": [
    "for i in range(1,20):\n",
    "    if int(i)%2==0 :\n",
    "        print(i ,\" is even\")\n",
    "    else :\n",
    "        print(i , \" is odd\")"
   ]
  },
  {
   "cell_type": "code",
   "execution_count": 65,
   "id": "7dbfa202",
   "metadata": {},
   "outputs": [
    {
     "name": "stdout",
     "output_type": "stream",
     "text": [
      "start1\n",
      "end5\n",
      "1  is odd\n",
      "2  is even\n",
      "3  is odd\n",
      "4  is even\n",
      "5  is odd\n"
     ]
    }
   ],
   "source": [
    "def even_or_odd(s,d):\n",
    "    for i in range(int(s),int(d)+1):\n",
    "        if int(i)%2==0 :\n",
    "            print(i ,\" is even\")\n",
    "        else :\n",
    "            print(i , \" is odd\")\n",
    "s = input(\"start\")\n",
    "d =  input(\"end\")\n",
    "even_or_odd(s,d)"
   ]
  },
  {
   "cell_type": "code",
   "execution_count": null,
   "id": "894c56ff",
   "metadata": {},
   "outputs": [],
   "source": [
    "def gcd(s,d):\n",
    "    for i in range(int(d),int(n1)+1):\n",
    "        if int(i)%2==0 :\n",
    "            print(i ,\" is even\")\n",
    "        else :\n",
    "            print(i , \" is odd\")\n",
    "n1 = input(\"start\")\n",
    "n2 =  input(\"end\")\n",
    "even_or_odd(s,d)"
   ]
  },
  {
   "cell_type": "code",
   "execution_count": null,
   "id": "8a287368",
   "metadata": {},
   "outputs": [],
   "source": [
    "def gcd(s,d):\n",
    "    if s % i ==0 and d % i ==0:\n",
    "        i+=1\n",
    "    else:\n",
    "        print i"
   ]
  },
  {
   "cell_type": "code",
   "execution_count": null,
   "id": "0f00bb78",
   "metadata": {},
   "outputs": [],
   "source": []
  },
  {
   "cell_type": "code",
   "execution_count": 81,
   "id": "031e255a",
   "metadata": {},
   "outputs": [
    {
     "name": "stdout",
     "output_type": "stream",
     "text": [
      "5\n"
     ]
    }
   ],
   "source": [
    "s=10\n",
    "d=5\n",
    "i=1\n",
    "\n",
    "for i in range(5,11):    \n",
    "    if s % i == 0 and d % i ==0: \n",
    "        z=i\n",
    "print(z) "
   ]
  },
  {
   "cell_type": "code",
   "execution_count": 113,
   "id": "eab27c9d",
   "metadata": {},
   "outputs": [
    {
     "name": "stdout",
     "output_type": "stream",
     "text": [
      "n118\n",
      "n224\n",
      "6\n"
     ]
    }
   ],
   "source": [
    "\n",
    "def gcd (n1,n2):\n",
    "    \n",
    "    for i in range(1 , n2 + 1):    \n",
    "        if ((n1 % i == 0) and (n2 % i ==0)) : \n",
    "            j = i\n",
    "    return j \n",
    "n1 = int(input(\"n1\") )\n",
    "n2 = int( input(\"n2\") )\n",
    "print(gcd(n1,n2) )\n"
   ]
  },
  {
   "cell_type": "code",
   "execution_count": 114,
   "id": "e70f1cad",
   "metadata": {},
   "outputs": [
    {
     "data": {
      "text/plain": [
       "(1, 2)"
      ]
     },
     "execution_count": 114,
     "metadata": {},
     "output_type": "execute_result"
    }
   ],
   "source": [
    "divmod(5,3)"
   ]
  },
  {
   "cell_type": "markdown",
   "id": "bb8ded40",
   "metadata": {},
   "source": [
    "\n",
    "    abs() for absolute value\n",
    "    divmod() to find a quotient and remainder simultaneously\n",
    "    pow() to raise a number to a certain power\n",
    "    round() to round a number to a certain decimal point\n",
    "    sum() to calculate the sum of the items in an iterable data type\n"
   ]
  },
  {
   "cell_type": "code",
   "execution_count": null,
   "id": "4b8c36c1",
   "metadata": {},
   "outputs": [],
   "source": []
  },
  {
   "cell_type": "code",
   "execution_count": null,
   "id": "387acba4",
   "metadata": {},
   "outputs": [],
   "source": []
  },
  {
   "cell_type": "code",
   "execution_count": null,
   "id": "0ed44c1d",
   "metadata": {},
   "outputs": [],
   "source": []
  },
  {
   "cell_type": "code",
   "execution_count": null,
   "id": "d21456c2",
   "metadata": {},
   "outputs": [],
   "source": []
  },
  {
   "cell_type": "code",
   "execution_count": null,
   "id": "01400260",
   "metadata": {},
   "outputs": [],
   "source": []
  },
  {
   "cell_type": "code",
   "execution_count": null,
   "id": "da6fbacc",
   "metadata": {},
   "outputs": [],
   "source": []
  },
  {
   "cell_type": "code",
   "execution_count": null,
   "id": "3f2efae8",
   "metadata": {},
   "outputs": [],
   "source": []
  },
  {
   "cell_type": "code",
   "execution_count": null,
   "id": "1e748e27",
   "metadata": {},
   "outputs": [],
   "source": []
  },
  {
   "cell_type": "code",
   "execution_count": null,
   "id": "fbc45de7",
   "metadata": {},
   "outputs": [],
   "source": []
  },
  {
   "cell_type": "code",
   "execution_count": null,
   "id": "8dd93c58",
   "metadata": {},
   "outputs": [],
   "source": []
  },
  {
   "cell_type": "code",
   "execution_count": null,
   "id": "581801fe",
   "metadata": {},
   "outputs": [],
   "source": []
  },
  {
   "cell_type": "code",
   "execution_count": null,
   "id": "cc8b5b88",
   "metadata": {},
   "outputs": [],
   "source": []
  },
  {
   "cell_type": "code",
   "execution_count": null,
   "id": "27367723",
   "metadata": {},
   "outputs": [],
   "source": []
  },
  {
   "cell_type": "code",
   "execution_count": null,
   "id": "939a1518",
   "metadata": {},
   "outputs": [],
   "source": []
  },
  {
   "cell_type": "code",
   "execution_count": null,
   "id": "3117d13c",
   "metadata": {},
   "outputs": [],
   "source": []
  },
  {
   "cell_type": "code",
   "execution_count": null,
   "id": "8cf63432",
   "metadata": {},
   "outputs": [],
   "source": []
  },
  {
   "cell_type": "code",
   "execution_count": null,
   "id": "40334784",
   "metadata": {},
   "outputs": [],
   "source": []
  },
  {
   "cell_type": "code",
   "execution_count": null,
   "id": "a14af8c0",
   "metadata": {},
   "outputs": [],
   "source": []
  },
  {
   "cell_type": "code",
   "execution_count": null,
   "id": "aa5ef8c3",
   "metadata": {},
   "outputs": [],
   "source": []
  },
  {
   "cell_type": "code",
   "execution_count": null,
   "id": "17fb8dcd",
   "metadata": {},
   "outputs": [],
   "source": []
  },
  {
   "cell_type": "code",
   "execution_count": null,
   "id": "eaff2ab4",
   "metadata": {},
   "outputs": [],
   "source": []
  },
  {
   "cell_type": "code",
   "execution_count": null,
   "id": "25ba9cb4",
   "metadata": {},
   "outputs": [],
   "source": []
  },
  {
   "cell_type": "code",
   "execution_count": null,
   "id": "57cea615",
   "metadata": {},
   "outputs": [],
   "source": []
  },
  {
   "cell_type": "code",
   "execution_count": null,
   "id": "b6f1b88c",
   "metadata": {},
   "outputs": [],
   "source": []
  },
  {
   "cell_type": "code",
   "execution_count": null,
   "id": "d496533d",
   "metadata": {},
   "outputs": [],
   "source": []
  },
  {
   "cell_type": "code",
   "execution_count": null,
   "id": "d86f31d0",
   "metadata": {},
   "outputs": [],
   "source": []
  },
  {
   "cell_type": "code",
   "execution_count": null,
   "id": "42f8f0ba",
   "metadata": {},
   "outputs": [],
   "source": []
  },
  {
   "cell_type": "code",
   "execution_count": null,
   "id": "33e55642",
   "metadata": {},
   "outputs": [],
   "source": []
  },
  {
   "cell_type": "code",
   "execution_count": null,
   "id": "2829effc",
   "metadata": {},
   "outputs": [],
   "source": []
  },
  {
   "cell_type": "code",
   "execution_count": 72,
   "id": "eaaa43f8",
   "metadata": {},
   "outputs": [
    {
     "name": "stdout",
     "output_type": "stream",
     "text": [
      "2\n"
     ]
    }
   ],
   "source": [
    "print(i)"
   ]
  },
  {
   "cell_type": "code",
   "execution_count": null,
   "id": "11bc519e",
   "metadata": {},
   "outputs": [],
   "source": []
  },
  {
   "cell_type": "code",
   "execution_count": null,
   "id": "4949784e",
   "metadata": {},
   "outputs": [],
   "source": []
  },
  {
   "cell_type": "code",
   "execution_count": null,
   "id": "861daa7b",
   "metadata": {},
   "outputs": [],
   "source": []
  },
  {
   "cell_type": "code",
   "execution_count": null,
   "id": "8bcdefbb",
   "metadata": {},
   "outputs": [],
   "source": []
  },
  {
   "cell_type": "code",
   "execution_count": null,
   "id": "a5eba601",
   "metadata": {},
   "outputs": [],
   "source": []
  },
  {
   "cell_type": "code",
   "execution_count": null,
   "id": "ba098ec5",
   "metadata": {},
   "outputs": [],
   "source": []
  },
  {
   "cell_type": "code",
   "execution_count": null,
   "id": "b44f90bd",
   "metadata": {},
   "outputs": [],
   "source": []
  },
  {
   "cell_type": "code",
   "execution_count": null,
   "id": "8b97bdde",
   "metadata": {},
   "outputs": [],
   "source": []
  },
  {
   "cell_type": "code",
   "execution_count": null,
   "id": "20948bb2",
   "metadata": {},
   "outputs": [],
   "source": []
  },
  {
   "cell_type": "code",
   "execution_count": null,
   "id": "0411b8c7",
   "metadata": {},
   "outputs": [],
   "source": []
  },
  {
   "cell_type": "code",
   "execution_count": null,
   "id": "d0f476ae",
   "metadata": {},
   "outputs": [],
   "source": []
  },
  {
   "cell_type": "code",
   "execution_count": null,
   "id": "b32bf7f6",
   "metadata": {},
   "outputs": [],
   "source": []
  },
  {
   "cell_type": "code",
   "execution_count": null,
   "id": "a77ba9d0",
   "metadata": {},
   "outputs": [],
   "source": []
  },
  {
   "cell_type": "code",
   "execution_count": null,
   "id": "73719ee9",
   "metadata": {},
   "outputs": [],
   "source": []
  },
  {
   "cell_type": "code",
   "execution_count": null,
   "id": "2836b7db",
   "metadata": {},
   "outputs": [],
   "source": []
  },
  {
   "cell_type": "code",
   "execution_count": null,
   "id": "288a6143",
   "metadata": {},
   "outputs": [],
   "source": []
  },
  {
   "cell_type": "code",
   "execution_count": null,
   "id": "727d0176",
   "metadata": {},
   "outputs": [],
   "source": []
  },
  {
   "cell_type": "code",
   "execution_count": null,
   "id": "66b64948",
   "metadata": {},
   "outputs": [],
   "source": []
  },
  {
   "cell_type": "code",
   "execution_count": null,
   "id": "03c0fdbb",
   "metadata": {},
   "outputs": [],
   "source": []
  },
  {
   "cell_type": "code",
   "execution_count": null,
   "id": "6920e474",
   "metadata": {},
   "outputs": [],
   "source": []
  },
  {
   "cell_type": "code",
   "execution_count": null,
   "id": "a753d86e",
   "metadata": {},
   "outputs": [],
   "source": []
  },
  {
   "cell_type": "code",
   "execution_count": null,
   "id": "96bee74c",
   "metadata": {},
   "outputs": [],
   "source": []
  },
  {
   "cell_type": "code",
   "execution_count": null,
   "id": "f3c90415",
   "metadata": {},
   "outputs": [],
   "source": []
  },
  {
   "cell_type": "code",
   "execution_count": null,
   "id": "2d9a074d",
   "metadata": {},
   "outputs": [],
   "source": []
  },
  {
   "cell_type": "code",
   "execution_count": null,
   "id": "168e61eb",
   "metadata": {},
   "outputs": [],
   "source": []
  },
  {
   "cell_type": "code",
   "execution_count": null,
   "id": "eeb4dbf5",
   "metadata": {},
   "outputs": [],
   "source": []
  },
  {
   "cell_type": "code",
   "execution_count": null,
   "id": "51f0408c",
   "metadata": {},
   "outputs": [],
   "source": []
  }
 ],
 "metadata": {
  "kernelspec": {
   "display_name": "Python 3 (ipykernel)",
   "language": "python",
   "name": "python3"
  },
  "language_info": {
   "codemirror_mode": {
    "name": "ipython",
    "version": 3
   },
   "file_extension": ".py",
   "mimetype": "text/x-python",
   "name": "python",
   "nbconvert_exporter": "python",
   "pygments_lexer": "ipython3",
   "version": "3.9.7"
  },
  "varInspector": {
   "cols": {
    "lenName": 16,
    "lenType": 16,
    "lenVar": 40
   },
   "kernels_config": {
    "python": {
     "delete_cmd_postfix": "",
     "delete_cmd_prefix": "del ",
     "library": "var_list.py",
     "varRefreshCmd": "print(var_dic_list())"
    },
    "r": {
     "delete_cmd_postfix": ") ",
     "delete_cmd_prefix": "rm(",
     "library": "var_list.r",
     "varRefreshCmd": "cat(var_dic_list()) "
    }
   },
   "types_to_exclude": [
    "module",
    "function",
    "builtin_function_or_method",
    "instance",
    "_Feature"
   ],
   "window_display": false
  }
 },
 "nbformat": 4,
 "nbformat_minor": 5
}
