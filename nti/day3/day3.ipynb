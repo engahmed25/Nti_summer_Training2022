{
 "cells": [
  {
   "cell_type": "code",
   "execution_count": 4,
   "id": "47d0bb12",
   "metadata": {},
   "outputs": [
    {
     "name": "stdout",
     "output_type": "stream",
     "text": [
      "125\n",
      "5\n",
      "130\n",
      "120\n",
      "625\n",
      "25.0\n"
     ]
    }
   ],
   "source": [
    "class Math :\n",
    "    def __init__ (self,n_1,n_2):\n",
    "        self.n_1=n_1\n",
    "        self.n_2= n_2\n",
    "        self.add()\n",
    "        self.Subtract()\n",
    "        self.multiply()\n",
    "        self.div ()\n",
    "    def add (self):\n",
    "        print(self.n_1+self.n_2)\n",
    "    def  Subtract (self):\n",
    "        print(self.n_1 - self.n_2)\n",
    "    def multiply  (self):\n",
    "        print(self.n_1 * self.n_2)\n",
    "    def div  (self):\n",
    "        print(self.n_1 / self.n_2)   \n",
    "n_1= int(input() ) \n",
    "n_2 = int(input() )\n",
    "x=Math(n_1,n_2)"
   ]
  },
  {
   "cell_type": "code",
   "execution_count": 5,
   "id": "4570623b",
   "metadata": {},
   "outputs": [],
   "source": [
    "class MATHs(Math):\n",
    "    def area (self):\n",
    "        print(self.n_1*self.n_2)"
   ]
  },
  {
   "cell_type": "code",
   "execution_count": 6,
   "id": "2219ea7a",
   "metadata": {},
   "outputs": [
    {
     "name": "stdout",
     "output_type": "stream",
     "text": [
      "13\n",
      "7\n",
      "30\n",
      "3.3333333333333335\n"
     ]
    }
   ],
   "source": [
    "z=MATHs(10,3)"
   ]
  },
  {
   "cell_type": "code",
   "execution_count": 7,
   "id": "2a67f3d0",
   "metadata": {},
   "outputs": [
    {
     "name": "stdout",
     "output_type": "stream",
     "text": [
      "30\n"
     ]
    }
   ],
   "source": [
    "z.area()"
   ]
  },
  {
   "cell_type": "code",
   "execution_count": null,
   "id": "5e73789c",
   "metadata": {},
   "outputs": [],
   "source": []
  },
  {
   "cell_type": "code",
   "execution_count": null,
   "id": "d5e4ad7a",
   "metadata": {},
   "outputs": [],
   "source": []
  },
  {
   "cell_type": "code",
   "execution_count": null,
   "id": "49f9b7bc",
   "metadata": {},
   "outputs": [],
   "source": []
  },
  {
   "cell_type": "code",
   "execution_count": null,
   "id": "7ab3b575",
   "metadata": {},
   "outputs": [],
   "source": []
  },
  {
   "cell_type": "code",
   "execution_count": null,
   "id": "839b354f",
   "metadata": {},
   "outputs": [],
   "source": []
  },
  {
   "cell_type": "code",
   "execution_count": null,
   "id": "c62aaefb",
   "metadata": {},
   "outputs": [],
   "source": []
  }
 ],
 "metadata": {
  "kernelspec": {
   "display_name": "Python 3 (ipykernel)",
   "language": "python",
   "name": "python3"
  },
  "language_info": {
   "codemirror_mode": {
    "name": "ipython",
    "version": 3
   },
   "file_extension": ".py",
   "mimetype": "text/x-python",
   "name": "python",
   "nbconvert_exporter": "python",
   "pygments_lexer": "ipython3",
   "version": "3.9.7"
  },
  "varInspector": {
   "cols": {
    "lenName": 16,
    "lenType": 16,
    "lenVar": 40
   },
   "kernels_config": {
    "python": {
     "delete_cmd_postfix": "",
     "delete_cmd_prefix": "del ",
     "library": "var_list.py",
     "varRefreshCmd": "print(var_dic_list())"
    },
    "r": {
     "delete_cmd_postfix": ") ",
     "delete_cmd_prefix": "rm(",
     "library": "var_list.r",
     "varRefreshCmd": "cat(var_dic_list()) "
    }
   },
   "types_to_exclude": [
    "module",
    "function",
    "builtin_function_or_method",
    "instance",
    "_Feature"
   ],
   "window_display": false
  }
 },
 "nbformat": 4,
 "nbformat_minor": 5
}
