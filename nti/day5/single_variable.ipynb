{
 "cells": [
  {
   "cell_type": "code",
   "execution_count": 10,
   "metadata": {},
   "outputs": [
    {
     "name": "stdout",
     "output_type": "stream",
     "text": [
      "Collecting pandas-profiling\n",
      "  Using cached pandas_profiling-3.2.0-py2.py3-none-any.whl (262 kB)\n",
      "Requirement already satisfied: numpy>=1.16.0 in c:\\users\\mcs\\anaconda3\\lib\\site-packages (from pandas-profiling) (1.20.3)\n",
      "Requirement already satisfied: joblib~=1.1.0 in c:\\users\\mcs\\anaconda3\\lib\\site-packages (from pandas-profiling) (1.1.0)\n",
      "Requirement already satisfied: jinja2>=2.11.1 in c:\\users\\mcs\\anaconda3\\lib\\site-packages (from pandas-profiling) (2.11.3)\n",
      "Requirement already satisfied: markupsafe~=2.1.1 in c:\\users\\mcs\\anaconda3\\lib\\site-packages (from pandas-profiling) (2.1.1)\n",
      "Collecting pydantic>=1.8.1\n",
      "  Using cached pydantic-1.9.2-cp39-cp39-win_amd64.whl (2.0 MB)\n",
      "Requirement already satisfied: seaborn>=0.10.1 in c:\\users\\mcs\\anaconda3\\lib\\site-packages (from pandas-profiling) (0.11.2)\n",
      "Collecting htmlmin>=0.1.12\n",
      "  Using cached htmlmin-0.1.12-py3-none-any.whl\n",
      "Collecting missingno>=0.4.2\n",
      "  Using cached missingno-0.5.1-py3-none-any.whl (8.7 kB)\n",
      "Requirement already satisfied: tangled-up-in-unicode==0.2.0 in c:\\users\\mcs\\anaconda3\\lib\\site-packages (from pandas-profiling) (0.2.0)\n",
      "Requirement already satisfied: multimethod>=1.4 in c:\\users\\mcs\\anaconda3\\lib\\site-packages (from pandas-profiling) (1.8)\n",
      "Requirement already satisfied: requests>=2.24.0 in c:\\users\\mcs\\anaconda3\\lib\\site-packages (from pandas-profiling) (2.26.0)\n",
      "Requirement already satisfied: scipy>=1.4.1 in c:\\users\\mcs\\anaconda3\\lib\\site-packages (from pandas-profiling) (1.7.1)\n",
      "Requirement already satisfied: pandas!=1.0.0,!=1.0.1,!=1.0.2,!=1.1.0,>=0.25.3 in c:\\users\\mcs\\anaconda3\\lib\\site-packages (from pandas-profiling) (1.3.4)\n",
      "Requirement already satisfied: PyYAML>=5.0.0 in c:\\users\\mcs\\anaconda3\\lib\\site-packages (from pandas-profiling) (6.0)\n",
      "Requirement already satisfied: tqdm>=4.48.2 in c:\\users\\mcs\\anaconda3\\lib\\site-packages (from pandas-profiling) (4.62.3)\n",
      "Requirement already satisfied: matplotlib>=3.2.0 in c:\\users\\mcs\\anaconda3\\lib\\site-packages (from pandas-profiling) (3.4.3)\n",
      "Requirement already satisfied: visions[type_image_path]==0.7.4 in c:\\users\\mcs\\anaconda3\\lib\\site-packages (from pandas-profiling) (0.7.4)\n",
      "Collecting phik>=0.11.1\n",
      "  Using cached phik-0.12.2-cp39-cp39-win_amd64.whl (685 kB)\n",
      "Requirement already satisfied: attrs>=19.3.0 in c:\\users\\mcs\\anaconda3\\lib\\site-packages (from visions[type_image_path]==0.7.4->pandas-profiling) (21.2.0)\n",
      "Requirement already satisfied: networkx>=2.4 in c:\\users\\mcs\\anaconda3\\lib\\site-packages (from visions[type_image_path]==0.7.4->pandas-profiling) (2.6.3)\n",
      "Requirement already satisfied: Pillow in c:\\users\\mcs\\anaconda3\\lib\\site-packages (from visions[type_image_path]==0.7.4->pandas-profiling) (8.4.0)\n",
      "Collecting imagehash\n",
      "  Using cached ImageHash-4.2.1-py2.py3-none-any.whl\n",
      "Requirement already satisfied: cycler>=0.10 in c:\\users\\mcs\\anaconda3\\lib\\site-packages (from matplotlib>=3.2.0->pandas-profiling) (0.10.0)\n",
      "Requirement already satisfied: python-dateutil>=2.7 in c:\\users\\mcs\\anaconda3\\lib\\site-packages (from matplotlib>=3.2.0->pandas-profiling) (2.8.2)\n",
      "Requirement already satisfied: kiwisolver>=1.0.1 in c:\\users\\mcs\\anaconda3\\lib\\site-packages (from matplotlib>=3.2.0->pandas-profiling) (1.3.1)\n",
      "Requirement already satisfied: pyparsing>=2.2.1 in c:\\users\\mcs\\anaconda3\\lib\\site-packages (from matplotlib>=3.2.0->pandas-profiling) (3.0.4)\n",
      "Requirement already satisfied: six in c:\\users\\mcs\\anaconda3\\lib\\site-packages (from cycler>=0.10->matplotlib>=3.2.0->pandas-profiling) (1.16.0)\n",
      "Requirement already satisfied: pytz>=2017.3 in c:\\users\\mcs\\anaconda3\\lib\\site-packages (from pandas!=1.0.0,!=1.0.1,!=1.0.2,!=1.1.0,>=0.25.3->pandas-profiling) (2021.3)\n",
      "Requirement already satisfied: typing-extensions>=3.7.4.3 in c:\\users\\mcs\\anaconda3\\lib\\site-packages (from pydantic>=1.8.1->pandas-profiling) (3.10.0.2)\n",
      "Requirement already satisfied: urllib3<1.27,>=1.21.1 in c:\\users\\mcs\\anaconda3\\lib\\site-packages (from requests>=2.24.0->pandas-profiling) (1.26.7)\n",
      "Requirement already satisfied: charset-normalizer~=2.0.0 in c:\\users\\mcs\\anaconda3\\lib\\site-packages (from requests>=2.24.0->pandas-profiling) (2.0.4)\n",
      "Requirement already satisfied: idna<4,>=2.5 in c:\\users\\mcs\\anaconda3\\lib\\site-packages (from requests>=2.24.0->pandas-profiling) (3.2)\n",
      "Requirement already satisfied: certifi>=2017.4.17 in c:\\users\\mcs\\anaconda3\\lib\\site-packages (from requests>=2.24.0->pandas-profiling) (2022.6.15)\n",
      "Requirement already satisfied: colorama in c:\\users\\mcs\\anaconda3\\lib\\site-packages (from tqdm>=4.48.2->pandas-profiling) (0.4.4)\n",
      "Requirement already satisfied: PyWavelets in c:\\users\\mcs\\anaconda3\\lib\\site-packages (from imagehash->visions[type_image_path]==0.7.4->pandas-profiling) (1.1.1)\n",
      "Installing collected packages: imagehash, pydantic, phik, missingno, htmlmin, pandas-profiling\n",
      "Successfully installed htmlmin-0.1.12 imagehash-4.2.1 missingno-0.5.1 pandas-profiling-3.2.0 phik-0.12.2 pydantic-1.9.2\n"
     ]
    }
   ],
   "source": [
    "#Asmaa Abdelkader\n",
    "!pip install pandas-profiling"
   ]
  },
  {
   "cell_type": "code",
   "execution_count": 11,
   "metadata": {},
   "outputs": [],
   "source": [
    "import pandas_profiling as pdp"
   ]
  },
  {
   "cell_type": "code",
   "execution_count": null,
   "metadata": {},
   "outputs": [],
   "source": []
  },
  {
   "cell_type": "code",
   "execution_count": 5,
   "metadata": {},
   "outputs": [],
   "source": [
    "import numpy as np\n",
    "import matplotlib.pyplot as plt"
   ]
  },
  {
   "cell_type": "code",
   "execution_count": 6,
   "metadata": {},
   "outputs": [],
   "source": [
    "\n",
    "def costFunc(y_predicted , y_actual):\n",
    "    error = y_predicted - y_actual\n",
    "    squared_error = np.power(error , 2)\n",
    "    return np.sum(squared_error)/(2*len(y_predicted))\n",
    "\n",
    "\n"
   ]
  },
  {
   "cell_type": "code",
   "execution_count": 7,
   "metadata": {},
   "outputs": [
    {
     "name": "stdout",
     "output_type": "stream",
     "text": [
      "theta0 = 0.12144591671015194  theta1=0.9799014183040404  cost= 1.9273556054252323\n",
      "0.755152889502003\n"
     ]
    },
    {
     "data": {
      "image/png": "[encoded data removed]",
      "text/plain": [
       "<Figure size 432x288 with 1 Axes>"
      ]
     },
     "metadata": {
      "needs_background": "light"
     },
     "output_type": "display_data"
    }
   ],
   "source": [
    "# data = np.loadtxt('RegData.csv' , delimiter=',')\n",
    "\n",
    "# x_points = data[:,0]\n",
    "# y_points = data[: ,1]\n",
    "\n",
    "x_points = np.array([1,1,2,3,4,5,6,7,8,9,10,11])\n",
    "y_points = np.array([1,2,3,1,4,5,6,4,7,10,15,9])\n",
    "\n",
    "learning_rate = .0001\n",
    "\n",
    "theta0 = 0 \n",
    "theta1 = 0\n",
    "\n",
    "num_of_itrations = 1000\n",
    "n = 1\n",
    "\n",
    "theta0_update = []\n",
    "theta1_update = []\n",
    "cost_update = []\n",
    "while(n< num_of_itrations):\n",
    "    y_predicted = theta0 + theta1*x_points\n",
    "    \n",
    "    cost = costFunc(y_predicted , y_points)\n",
    "    \n",
    "    grad0 = (np.sum(y_predicted - y_points) / len(y_points))\n",
    "    grad1 = (np.sum((y_predicted - y_points)*x_points) / len(y_points))\n",
    "    \n",
    "    theta0 = theta0 - learning_rate * grad0\n",
    "    theta1 = theta1 - learning_rate * grad1\n",
    "    theta0_update.append(theta0)\n",
    "    theta1_update.append(theta1)\n",
    "    cost_update.append(cost)\n",
    "    \n",
    "    n+=1\n",
    "    \n",
    "print(\"theta0 = {}  theta1={}  cost= {}\".format(theta0 , theta1 , cost))\n",
    "\n",
    "from sklearn.metrics import r2_score\n",
    "print(r2_score( y_points,theta0+theta1*x_points ))\n",
    "\n",
    "plt.clf()\n",
    "plt.scatter(x_points , y_points)\n",
    "plt.xlabel(\"x\")\n",
    "plt.ylabel(\"y\")\n",
    "plt.plot(x_points,theta0+theta1*x_points , color =\"r\")\n",
    "plt.show()"
   ]
  },
  {
   "cell_type": "code",
   "execution_count": 8,
   "metadata": {},
   "outputs": [
    {
     "data": {
      "text/plain": [
       "[Text(0.5, 0, 'theta 1'), Text(0, 0.5, 'cost')]"
      ]
     },
     "execution_count": 8,
     "metadata": {},
     "output_type": "execute_result"
    },
    {
     "data": {
      "text/plain": [
       "<Figure size 432x288 with 0 Axes>"
      ]
     },
     "metadata": {},
     "output_type": "display_data"
    },
    {
     "data": {
      "image/png": "[encoded data removed]",
      "text/plain": [
       "<Figure size 432x288 with 2 Axes>"
      ]
     },
     "metadata": {
      "needs_background": "light"
     },
     "output_type": "display_data"
    }
   ],
   "source": [
    "plt.clf()\n",
    "fig , ax = plt.subplots(1,2)\n",
    "ax[0].plot(theta0_update  , cost_update)\n",
    "ax[0].set(xlabel='theta 0', ylabel='cost')\n",
    "ax[1].plot(theta1_update , cost_update)\n",
    "ax[1].set(xlabel='theta 1', ylabel='cost')"
   ]
  },
  {
   "cell_type": "code",
   "execution_count": 9,
   "metadata": {},
   "outputs": [
    {
     "data": {
      "image/png": "[encoded data removed]",
      "text/plain": [
       "<Figure size 432x288 with 1 Axes>"
      ]
     },
     "metadata": {
      "needs_background": "light"
     },
     "output_type": "display_data"
    }
   ],
   "source": [
    "plt.clf()\n",
    "plt.plot( cost_update)\n",
    "plt.xlabel(\"Iterations\")\n",
    "plt.ylabel(\"Cost\")\n",
    "plt.title(\"How the cost decreases\")\n",
    "plt.show()"
   ]
  },
  {
   "cell_type": "code",
   "execution_count": null,
   "metadata": {},
   "outputs": [],
   "source": []
  },
  {
   "cell_type": "code",
   "execution_count": null,
   "metadata": {},
   "outputs": [],
   "source": []
  }
 ],
 "metadata": {
  "kernelspec": {
   "display_name": "Python 3 (ipykernel)",
   "language": "python",
   "name": "python3"
  },
  "language_info": {
   "codemirror_mode": {
    "name": "ipython",
    "version": 3
   },
   "file_extension": ".py",
   "mimetype": "text/x-python",
   "name": "python",
   "nbconvert_exporter": "python",
   "pygments_lexer": "ipython3",
   "version": "3.9.7"
  },
  "varInspector": {
   "cols": {
    "lenName": 16,
    "lenType": 16,
    "lenVar": 40
   },
   "kernels_config": {
    "python": {
     "delete_cmd_postfix": "",
     "delete_cmd_prefix": "del ",
     "library": "var_list.py",
     "varRefreshCmd": "print(var_dic_list())"
    },
    "r": {
     "delete_cmd_postfix": ") ",
     "delete_cmd_prefix": "rm(",
     "library": "var_list.r",
     "varRefreshCmd": "cat(var_dic_list()) "
    }
   },
   "types_to_exclude": [
    "module",
    "function",
    "builtin_function_or_method",
    "instance",
    "_Feature"
   ],
   "window_display": false
  }
 },
 "nbformat": 4,
 "nbformat_minor": 4
}
