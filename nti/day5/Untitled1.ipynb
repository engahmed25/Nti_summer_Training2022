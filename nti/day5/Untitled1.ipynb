{
 "cells": [
  {
   "cell_type": "code",
   "execution_count": 1,
   "id": "eda3a887",
   "metadata": {},
   "outputs": [],
   "source": [
    "import numpy as np\n",
    "import matplotlib.pyplot as plt"
   ]
  },
  {
   "cell_type": "code",
   "execution_count": 3,
   "id": "2b4f6d3d",
   "metadata": {},
   "outputs": [],
   "source": [
    "def costfun (yp , y_points):\n",
    "    error = yp - y_points\n",
    "    serror = np.power(error ,2 )\n",
    "    return np.sum (serror)/(2*len(y_points))"
   ]
  },
  {
   "cell_type": "code",
   "execution_count": null,
   "id": "04c87f11",
   "metadata": {},
   "outputs": [],
   "source": [
    "def descent (y_points,x_points):\n",
    "    t0=0\n",
    "    t1=0\n",
    "    lt =0.001\n",
    "    nt=5500\n",
    "    t0_updata=[0]\n",
    "    t1_updata=[0]\n",
    "    cost_updata=[0]\n",
    "    n=0\n",
    "    while(n < nt) :\n",
    "        yp = t1 * x_points +t0\n",
    "        cost = costfun( yp , y_points )\n",
    "        g0=(np.sum(yp -y_points)/ len(y_points))\n",
    "        g1=(np.sum((yp -y_points)*x_points) / len(y_points))\n",
    "        t0 = t0 - lt*g0\n",
    "        t1 = t1 - lt *g1\n",
    "        t0_updata.append(t0)\n",
    "        t1_updata.append(t1)\n",
    "        cost_updata.append(cost)\n",
    "        n+=1\n",
    "        if (round(t1_updata[-1],5)==round(cost_updata[-2],5)):\n",
    "            break\n",
    "    print( \"x ={}  y ={} z={} \".format(t0 , t1 ,cost))  \n",
    "    print(\"\\n\",n)\n",
    "    plt.clf()\n",
    "    fig , ax = plt.subplots(1,2)\n",
    "    ax[0].plot(t0_updata  , cost_updata)\n",
    "    ax[0].set(xlabel='t0', ylabel='cost')\n",
    "    ax[1].plot(t1_updata , cost_updata)\n",
    "    ax[1].set(xlabel='t1', ylabel='cost');\n",
    "    plt.show()"
   ]
  }
 ],
 "metadata": {
  "kernelspec": {
   "display_name": "Python 3 (ipykernel)",
   "language": "python",
   "name": "python3"
  },
  "language_info": {
   "codemirror_mode": {
    "name": "ipython",
    "version": 3
   },
   "file_extension": ".py",
   "mimetype": "text/x-python",
   "name": "python",
   "nbconvert_exporter": "python",
   "pygments_lexer": "ipython3",
   "version": "3.9.7"
  },
  "varInspector": {
   "cols": {
    "lenName": 16,
    "lenType": 16,
    "lenVar": 40
   },
   "kernels_config": {
    "python": {
     "delete_cmd_postfix": "",
     "delete_cmd_prefix": "del ",
     "library": "var_list.py",
     "varRefreshCmd": "print(var_dic_list())"
    },
    "r": {
     "delete_cmd_postfix": ") ",
     "delete_cmd_prefix": "rm(",
     "library": "var_list.r",
     "varRefreshCmd": "cat(var_dic_list()) "
    }
   },
   "types_to_exclude": [
    "module",
    "function",
    "builtin_function_or_method",
    "instance",
    "_Feature"
   ],
   "window_display": false
  }
 },
 "nbformat": 4,
 "nbformat_minor": 5
}
