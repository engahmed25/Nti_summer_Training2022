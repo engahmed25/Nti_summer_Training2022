{
 "cells": [
  {
   "cell_type": "code",
   "execution_count": 2,
   "id": "e9687c25",
   "metadata": {},
   "outputs": [
    {
     "name": "stdout",
     "output_type": "stream",
     "text": [
      "Collecting cdflib\n",
      "  Downloading cdflib-0.4.7-py3-none-any.whl (72 kB)\n",
      "Requirement already satisfied: attrs>=19.2.0 in c:\\users\\mcs\\anaconda3\\lib\\site-packages (from cdflib) (21.2.0)\n",
      "Requirement already satisfied: numpy in c:\\users\\mcs\\anaconda3\\lib\\site-packages (from cdflib) (1.20.3)\n",
      "Installing collected packages: cdflib\n",
      "Successfully installed cdflib-0.4.7\n",
      "Collecting spacepy\n",
      "  Downloading spacepy-0.4.1-cp39-cp39-win_amd64.whl (2.0 MB)\n",
      "Requirement already satisfied: h5py>=2.6 in c:\\users\\mcs\\anaconda3\\lib\\site-packages (from spacepy) (3.2.1)\n",
      "Requirement already satisfied: matplotlib>=1.5 in c:\\users\\mcs\\anaconda3\\lib\\site-packages (from spacepy) (3.4.3)\n",
      "Requirement already satisfied: python-dateutil>=1.4 in c:\\users\\mcs\\anaconda3\\lib\\site-packages (from spacepy) (2.8.2)\n",
      "Requirement already satisfied: numpy!=1.15.0,>=1.10 in c:\\users\\mcs\\anaconda3\\lib\\site-packages (from spacepy) (1.20.3)\n",
      "Requirement already satisfied: scipy>=0.11 in c:\\users\\mcs\\anaconda3\\lib\\site-packages (from spacepy) (1.7.1)\n",
      "Requirement already satisfied: pyparsing>=2.2.1 in c:\\users\\mcs\\anaconda3\\lib\\site-packages (from matplotlib>=1.5->spacepy) (3.0.4)\n",
      "Requirement already satisfied: kiwisolver>=1.0.1 in c:\\users\\mcs\\anaconda3\\lib\\site-packages (from matplotlib>=1.5->spacepy) (1.3.1)\n",
      "Requirement already satisfied: pillow>=6.2.0 in c:\\users\\mcs\\anaconda3\\lib\\site-packages (from matplotlib>=1.5->spacepy) (8.4.0)\n",
      "Requirement already satisfied: cycler>=0.10 in c:\\users\\mcs\\anaconda3\\lib\\site-packages (from matplotlib>=1.5->spacepy) (0.10.0)\n",
      "Requirement already satisfied: six in c:\\users\\mcs\\anaconda3\\lib\\site-packages (from cycler>=0.10->matplotlib>=1.5->spacepy) (1.16.0)\n",
      "Installing collected packages: spacepy\n",
      "Successfully installed spacepy-0.4.1\n"
     ]
    }
   ],
   "source": [
    "!pip install cdflib\n",
    "!pip install spacepy"
   ]
  },
  {
   "cell_type": "code",
   "execution_count": 5,
   "id": "0656e701",
   "metadata": {},
   "outputs": [],
   "source": [
    "#from spacepy import pycdf\n",
    "import spacepy as ps\n"
   ]
  },
  {
   "cell_type": "code",
   "execution_count": 13,
   "id": "2c0aadf3",
   "metadata": {},
   "outputs": [],
   "source": [
    "import cdflib"
   ]
  },
  {
   "cell_type": "code",
   "execution_count": 18,
   "id": "9c2dbb98",
   "metadata": {},
   "outputs": [
    {
     "ename": "SyntaxError",
     "evalue": "invalid syntax (Temp/ipykernel_13600/1596055164.py, line 1)",
     "output_type": "error",
     "traceback": [
      "\u001b[1;36m  File \u001b[1;32m\"C:\\Users\\Mcs\\AppData\\Local\\Temp/ipykernel_13600/1596055164.py\"\u001b[1;36m, line \u001b[1;32m1\u001b[0m\n\u001b[1;33m    cdflib.cdfread()?\u001b[0m\n\u001b[1;37m                    ^\u001b[0m\n\u001b[1;31mSyntaxError\u001b[0m\u001b[1;31m:\u001b[0m invalid syntax\n"
     ]
    }
   ],
   "source": [
    "cdflib.cdfread()"
   ]
  },
  {
   "cell_type": "code",
   "execution_count": null,
   "id": "41530480",
   "metadata": {},
   "outputs": [],
   "source": []
  },
  {
   "cell_type": "code",
   "execution_count": null,
   "id": "374c46e0",
   "metadata": {},
   "outputs": [],
   "source": [
    "ps."
   ]
  },
  {
   "cell_type": "code",
   "execution_count": 16,
   "id": "63dc131c",
   "metadata": {},
   "outputs": [
    {
     "name": "stderr",
     "output_type": "stream",
     "text": [
      "ERROR: Could not find a version that satisfies the requirement pycdf (from versions: none)\n",
      "ERROR: No matching distribution found for pycdf\n"
     ]
    }
   ],
   "source": [
    "!pip install pycdf"
   ]
  },
  {
   "cell_type": "code",
   "execution_count": 17,
   "id": "216f82ab",
   "metadata": {},
   "outputs": [
    {
     "ename": "Exception",
     "evalue": "Cannot load CDF C library; checked . Try 'os.environ[\"CDF_LIB\"] = library_directory' before import.",
     "output_type": "error",
     "traceback": [
      "\u001b[1;31m---------------------------------------------------------------------------\u001b[0m",
      "\u001b[1;31mException\u001b[0m                                 Traceback (most recent call last)",
      "\u001b[1;32m~\\AppData\\Local\\Temp/ipykernel_13600/662617897.py\u001b[0m in \u001b[0;36m<module>\u001b[1;34m\u001b[0m\n\u001b[1;32m----> 1\u001b[1;33m \u001b[1;32mfrom\u001b[0m \u001b[0mspacepy\u001b[0m \u001b[1;32mimport\u001b[0m \u001b[0mpycdf\u001b[0m\u001b[1;33m\u001b[0m\u001b[1;33m\u001b[0m\u001b[0m\n\u001b[0m",
      "\u001b[1;32m~\\anaconda3\\lib\\site-packages\\spacepy\\pycdf\\__init__.py\u001b[0m in \u001b[0;36m<module>\u001b[1;34m\u001b[0m\n\u001b[0;32m   1299\u001b[0m \u001b[0m_libpath\u001b[0m\u001b[1;33m,\u001b[0m \u001b[0m_library\u001b[0m \u001b[1;33m=\u001b[0m \u001b[0mLibrary\u001b[0m\u001b[1;33m.\u001b[0m\u001b[0m_find_lib\u001b[0m\u001b[1;33m(\u001b[0m\u001b[1;33m)\u001b[0m\u001b[1;33m\u001b[0m\u001b[1;33m\u001b[0m\u001b[0m\n\u001b[0;32m   1300\u001b[0m \u001b[1;32mif\u001b[0m \u001b[0m_library\u001b[0m \u001b[1;32mis\u001b[0m \u001b[1;32mNone\u001b[0m\u001b[1;33m:\u001b[0m\u001b[1;33m\u001b[0m\u001b[1;33m\u001b[0m\u001b[0m\n\u001b[1;32m-> 1301\u001b[1;33m     raise Exception(('Cannot load CDF C library; checked {0}. '\n\u001b[0m\u001b[0;32m   1302\u001b[0m                      \u001b[1;34m'Try \\'os.environ[\"CDF_LIB\"] = library_directory\\' '\u001b[0m\u001b[1;33m\u001b[0m\u001b[1;33m\u001b[0m\u001b[0m\n\u001b[0;32m   1303\u001b[0m                      'before import.').format(', '.join(_libpath)))\n",
      "\u001b[1;31mException\u001b[0m: Cannot load CDF C library; checked . Try 'os.environ[\"CDF_LIB\"] = library_directory' before import."
     ]
    }
   ],
   "source": [
    "from spacepy import pycdf"
   ]
  },
  {
   "cell_type": "code",
   "execution_count": null,
   "id": "e78efb23",
   "metadata": {},
   "outputs": [],
   "source": []
  },
  {
   "cell_type": "code",
   "execution_count": 9,
   "id": "d44da096",
   "metadata": {},
   "outputs": [
    {
     "ename": "AttributeError",
     "evalue": "module 'spacepy' has no attribute 'CDF'",
     "output_type": "error",
     "traceback": [
      "\u001b[1;31m---------------------------------------------------------------------------\u001b[0m",
      "\u001b[1;31mAttributeError\u001b[0m                            Traceback (most recent call last)",
      "\u001b[1;32m~\\AppData\\Local\\Temp/ipykernel_13600/1206679778.py\u001b[0m in \u001b[0;36m<module>\u001b[1;34m\u001b[0m\n\u001b[1;32m----> 1\u001b[1;33m \u001b[0mdf_pycdf\u001b[0m \u001b[1;33m=\u001b[0m \u001b[0mps\u001b[0m\u001b[1;33m.\u001b[0m\u001b[0mCDF\u001b[0m\u001b[1;33m(\u001b[0m\u001b[0mwi_h2_mfi_20220101_v04\u001b[0m\u001b[1;33m.\u001b[0m\u001b[0mcdf\u001b[0m\u001b[1;33m)\u001b[0m\u001b[1;33m\u001b[0m\u001b[1;33m\u001b[0m\u001b[0m\n\u001b[0m",
      "\u001b[1;31mAttributeError\u001b[0m: module 'spacepy' has no attribute 'CDF'"
     ]
    }
   ],
   "source": [
    "df_pycdf = ps.CDF(wi_h2_mfi_20220101_v04.cdf)"
   ]
  },
  {
   "cell_type": "code",
   "execution_count": 12,
   "id": "91bbf22a",
   "metadata": {},
   "outputs": [
    {
     "ename": "Exception",
     "evalue": "Cannot load CDF C library; checked . Try 'os.environ[\"CDF_LIB\"] = library_directory' before import.",
     "output_type": "error",
     "traceback": [
      "\u001b[1;31m---------------------------------------------------------------------------\u001b[0m",
      "\u001b[1;31mException\u001b[0m                                 Traceback (most recent call last)",
      "\u001b[1;32m~\\AppData\\Local\\Temp/ipykernel_13600/662617897.py\u001b[0m in \u001b[0;36m<module>\u001b[1;34m\u001b[0m\n\u001b[1;32m----> 1\u001b[1;33m \u001b[1;32mfrom\u001b[0m \u001b[0mspacepy\u001b[0m \u001b[1;32mimport\u001b[0m \u001b[0mpycdf\u001b[0m\u001b[1;33m\u001b[0m\u001b[1;33m\u001b[0m\u001b[0m\n\u001b[0m",
      "\u001b[1;32m~\\anaconda3\\lib\\site-packages\\spacepy\\pycdf\\__init__.py\u001b[0m in \u001b[0;36m<module>\u001b[1;34m\u001b[0m\n\u001b[0;32m   1299\u001b[0m \u001b[0m_libpath\u001b[0m\u001b[1;33m,\u001b[0m \u001b[0m_library\u001b[0m \u001b[1;33m=\u001b[0m \u001b[0mLibrary\u001b[0m\u001b[1;33m.\u001b[0m\u001b[0m_find_lib\u001b[0m\u001b[1;33m(\u001b[0m\u001b[1;33m)\u001b[0m\u001b[1;33m\u001b[0m\u001b[1;33m\u001b[0m\u001b[0m\n\u001b[0;32m   1300\u001b[0m \u001b[1;32mif\u001b[0m \u001b[0m_library\u001b[0m \u001b[1;32mis\u001b[0m \u001b[1;32mNone\u001b[0m\u001b[1;33m:\u001b[0m\u001b[1;33m\u001b[0m\u001b[1;33m\u001b[0m\u001b[0m\n\u001b[1;32m-> 1301\u001b[1;33m     raise Exception(('Cannot load CDF C library; checked {0}. '\n\u001b[0m\u001b[0;32m   1302\u001b[0m                      \u001b[1;34m'Try \\'os.environ[\"CDF_LIB\"] = library_directory\\' '\u001b[0m\u001b[1;33m\u001b[0m\u001b[1;33m\u001b[0m\u001b[0m\n\u001b[0;32m   1303\u001b[0m                      'before import.').format(', '.join(_libpath)))\n",
      "\u001b[1;31mException\u001b[0m: Cannot load CDF C library; checked . Try 'os.environ[\"CDF_LIB\"] = library_directory' before import."
     ]
    }
   ],
   "source": [
    "from spacepy import pycdf"
   ]
  },
  {
   "cell_type": "code",
   "execution_count": 11,
   "id": "c174b572",
   "metadata": {},
   "outputs": [
    {
     "name": "stdout",
     "output_type": "stream",
     "text": [
      "Requirement already satisfied: cdflib in c:\\users\\mcs\\anaconda3\\lib\\site-packages (0.4.7)\n",
      "Requirement already satisfied: numpy in c:\\users\\mcs\\anaconda3\\lib\\site-packages (from cdflib) (1.20.3)\n",
      "Requirement already satisfied: attrs>=19.2.0 in c:\\users\\mcs\\anaconda3\\lib\\site-packages (from cdflib) (21.2.0)\n"
     ]
    }
   ],
   "source": [
    "!pip install cdflib"
   ]
  },
  {
   "cell_type": "code",
   "execution_count": null,
   "id": "237bd5b7",
   "metadata": {},
   "outputs": [],
   "source": []
  },
  {
   "cell_type": "code",
   "execution_count": null,
   "id": "3cba4b2c",
   "metadata": {},
   "outputs": [],
   "source": []
  },
  {
   "cell_type": "code",
   "execution_count": null,
   "id": "02f3ee32",
   "metadata": {},
   "outputs": [],
   "source": []
  },
  {
   "cell_type": "code",
   "execution_count": null,
   "id": "ea06fe18",
   "metadata": {},
   "outputs": [],
   "source": []
  },
  {
   "cell_type": "code",
   "execution_count": null,
   "id": "b54e62a0",
   "metadata": {},
   "outputs": [],
   "source": []
  }
 ],
 "metadata": {
  "kernelspec": {
   "display_name": "Python 3 (ipykernel)",
   "language": "python",
   "name": "python3"
  },
  "language_info": {
   "codemirror_mode": {
    "name": "ipython",
    "version": 3
   },
   "file_extension": ".py",
   "mimetype": "text/x-python",
   "name": "python",
   "nbconvert_exporter": "python",
   "pygments_lexer": "ipython3",
   "version": "3.9.7"
  },
  "varInspector": {
   "cols": {
    "lenName": 16,
    "lenType": 16,
    "lenVar": 40
   },
   "kernels_config": {
    "python": {
     "delete_cmd_postfix": "",
     "delete_cmd_prefix": "del ",
     "library": "var_list.py",
     "varRefreshCmd": "print(var_dic_list())"
    },
    "r": {
     "delete_cmd_postfix": ") ",
     "delete_cmd_prefix": "rm(",
     "library": "var_list.r",
     "varRefreshCmd": "cat(var_dic_list()) "
    }
   },
   "types_to_exclude": [
    "module",
    "function",
    "builtin_function_or_method",
    "instance",
    "_Feature"
   ],
   "window_display": false
  }
 },
 "nbformat": 4,
 "nbformat_minor": 5
}
